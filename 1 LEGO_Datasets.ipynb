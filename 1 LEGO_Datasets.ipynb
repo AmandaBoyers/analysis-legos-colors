{
 "cells": [
  {
   "cell_type": "code",
   "execution_count": 104,
   "metadata": {},
   "outputs": [],
   "source": [
    "from mpl_toolkits.mplot3d import Axes3D\n",
    "from sklearn.preprocessing import StandardScaler\n",
    "import matplotlib.pyplot as plt # plotting\n",
    "import numpy as np # linear algebra\n",
    "import os # accessing directory structure\n",
    "import pandas as pd # data processing, CSV file I/O (e.g. pd.read_csv)"
   ]
  },
  {
   "cell_type": "code",
   "execution_count": 105,
   "metadata": {},
   "outputs": [
    {
     "name": "stdout",
     "output_type": "stream",
     "text": [
      "['.conda', '.git', '.gitattributes', '.gitignore', '1 LEGO_Datasets.ipynb', 'colors.csv', 'demo.py', 'downloads_schema.png', 'inventories.csv', 'inventory_parts.csv', 'inventory_sets.csv', 'LICENSE.txt', 'markdown-diff', 'morelearning.ipynb', 'parts.csv', 'part_categories.csv', 'README.md', 'sets.csv', 'themes.csv']\n"
     ]
    }
   ],
   "source": [
    "print(os.listdir())"
   ]
  },
  {
   "cell_type": "markdown",
   "metadata": {},
   "source": [
    "## Creating the Panda dataframes"
   ]
  },
  {
   "cell_type": "code",
   "execution_count": 106,
   "metadata": {},
   "outputs": [],
   "source": [
    "colors = pd.read_csv(\"colors.csv\", dtype={'name': 'str', 'rgb': 'str'})\n",
    "inventories = pd.read_csv(\"inventories.csv\")\n",
    "inventory_parts = pd.read_csv(\"inventory_parts.csv\")\n",
    "inventory_sets = pd.read_csv(\"inventory_sets.csv\")\n",
    "part_categories = pd.read_csv(\"part_categories.csv\")\n",
    "parts = pd.read_csv(\"parts.csv\")\n",
    "sets = pd.read_csv(\"sets.csv\")\n",
    "themes = pd.read_csv(\"themes.csv\")"
   ]
  },
  {
   "cell_type": "markdown",
   "metadata": {},
   "source": [
    "## Creating the investigate function"
   ]
  },
  {
   "cell_type": "code",
   "execution_count": 107,
   "metadata": {},
   "outputs": [],
   "source": [
    "def investigate(db):\n",
    "    \"\"\"explores the data\"\"\"\n",
    "    \n",
    "    print(f\"Exploring the data in the dataframe\")\n",
    "    print(db.index)\n",
    "    print(\"\")\n",
    "    print(\"COLUMN NAMES\")\n",
    "    print(db.columns)\n",
    "    print()\n",
    "    nRow, nCol = db.shape\n",
    "    print(f'There are {nRow} rows and {nCol} columns')\n",
    "    print()\n",
    "    print(\"DATA TYPES\")\n",
    "    print(db.dtypes)\n",
    "    print()\n",
    "    print(\"NUMBER OF UNIQUE VALUES IN EACH COLUMN\")\n",
    "    print(db.nunique())\n",
    "    print()\n",
    "    print(\"PREVIEWING THE DATASET\")\n",
    "    print(db.head())\n",
    "    print()\n",
    "    print(db.info())\n",
    "    print()\n",
    "    print(\"NUMBER OF NON-NULL VALUES IN EACH COLUMN\")\n",
    "    print(db.count())\n"
   ]
  },
  {
   "cell_type": "code",
   "execution_count": 108,
   "metadata": {},
   "outputs": [
    {
     "name": "stdout",
     "output_type": "stream",
     "text": [
      "Number of unique groups: 14\n",
      "\n",
      "Number of unassigned names : 0\n",
      "\n",
      "All color names have been assigned to a group.\n",
      "   id            name     rgb  is_trans               group\n",
      "0  -1         Unknown  0033B2     False  Unknown\\nWild Card\n",
      "1   0           Black  05131D     False               Black\n",
      "2   1            Blue  0055BF     False                Blue\n",
      "3   2           Green  237841     False               Green\n",
      "4   3  Dark Turquoise  008F9B     False                Blue\n"
     ]
    }
   ],
   "source": [
    "# Remove extraneous quotes\n",
    "# Use the str.replace() method to remove the quotes, brackets, leading dashes from the name column\n",
    "\n",
    "colors['name'] = colors['name'].str.replace(r'^[\"\\']|[\"\\']$', '', regex=True)\n",
    "# regex=True: This argument is used to specify that the pattern is a regular expression.\n",
    "# r'^[\"\\']|[\"\\']$': This is a regular expression pattern used to match specific characters at the beginning or end of the string.\n",
    "# The ^ symbol matches the start of the string, and the $ symbol matches the end of the string.\n",
    "# The pattern [\"\\'] matches either a single or double quote character.\n",
    "# The | symbol is a logical OR operator that matches either the pattern before or after it.\n",
    "# The regex pattern ^[\"\\'] matches a single or double quote character at the beginning of the string.\n",
    "# The regex pattern [\"\\']$ matches a single or double quote character at the end of the string.\n",
    "\n",
    "# Remove leading dashes\n",
    "# r \"'-\": This regular expression pattern matches a single quote followed by a dash character.\n",
    "colors['name'] = colors['name'].str.replace(r\"'-\", '', regex=True)\n",
    "\n",
    "colors['name'] = colors['name'].str.replace(r'[\\[\\]]', '', regex=True) #remove brackets\n",
    "# Strip leading/trailing spaces\n",
    "colors['name'] = colors['name'].str.strip()\n",
    "# Replace 'f' with False and 't' with True\n",
    "colors['is_trans'] = colors['is_trans'].replace({'f': False, 't': True})\n",
    "# Define the mapping of color names to groups\n",
    "color_groups = {\n",
    "    'Red': 'Red',\n",
    "    'Green': 'Green',\n",
    "    'Blue': 'Blue',\n",
    "    'Light Blue': 'Blue',\n",
    "    'Dark Green': 'Green',\n",
    "    'Medium Lavender': 'Purple',\n",
    "    'Yellow': 'Yellow',\n",
    "    'Orange': 'Orange',\n",
    "    'Pink': 'Pink',\n",
    "    'Unknown': 'Unknown\\nWild Card',\n",
    "    'Black': 'Black',\n",
    "    'Dark Turquoise': 'Blue',\n",
    "    'Medium Blue': 'Blue',\n",
    "    'Tan': 'Brown',\n",
    "    'Light Gray': 'Gray',\n",
    "    'Dark Gray': 'Gray',\n",
    "    'Brown': 'Brown',\n",
    "    'White': 'White',\n",
    "    'Purple': 'Purple',\n",
    "    'Lime': 'Green',\n",
    "    'Magenta': 'Pink',\n",
    "    'Dark Pink': 'Pink',\n",
    "    'Light Pink': 'Pink',\n",
    "    'Bright Pink': 'Pink',\n",
    "    'Lavender': 'Purple',\n",
    "    'Sand Blue': 'Blue',\n",
    "    'Sand Green': 'Green',\n",
    "    'Sand Purple': 'Purple',\n",
    "    'Sand Red': 'Red',\n",
    "    'Sand Yellow': 'Yellow',\n",
    "    'Dark Red': 'Red',\n",
    "    'Medium Dark Pink': 'Pink',\n",
    "    'Dark Brown': 'Brown',\n",
    "    'Medium Azure': 'Blue',\n",
    "    'Medium Blue': 'Blue',\n",
    "    'Medium Green': 'Green',\n",
    "    'Medium Lime': 'Green',\n",
    "    'Medium Orange': 'Orange',\n",
    "    'Medium Red': 'Red',\n",
    "    'Medium Violet': 'Purple',\n",
    "    'Medium Yellow': 'Yellow',\n",
    "    'Bright Light Blue': 'Blue',\n",
    "    'Bright Light Orange': 'Orange',\n",
    "    'Bright Light Yellow': 'Yellow',\n",
    "    'Bright Purple': 'Purple',\n",
    "    'Bright Red': 'Red',\n",
    "    'Bright Yellow': 'Yellow',\n",
    "    'Light Aqua': 'Blue',\n",
    "    'Light Green': 'Green',\n",
    "    'Light Lime': 'Green',\n",
    "    'Light Orange': 'Orange',\n",
    "    'Light Purple': 'Purple',\n",
    "    'Light Salmon': 'Red',\n",
    "    'Light Turquoise': 'Blue',\n",
    "    'Light Yellow': 'Yellow',\n",
    "    'Olive Green': 'Green',\n",
    "    'Very Light Bluish Gray': 'Gray',\n",
    "    'Very Light Gray': 'Gray',\n",
    "    'Very Light Orange': 'Orange',\n",
    "    'Very Light Yellow': 'Yellow',\n",
    "    'Dark Blue-Violet': 'Blue',\n",
    "    'Dark Blue': 'Blue',\n",
    "    'Dark Azure': 'Blue',\n",
    "    'Dark Orange': 'Orange',\n",
    "    'Dark Tan': 'Brown',\n",
    "    'Dark Purple': 'Purple',\n",
    "    'Dark Flesh': 'Brown',\n",
    "    'Dark Salmon': 'Red',\n",
    "    'Dark Yellow': 'Yellow',\n",
    "    'Light Blue-Violet': 'Blue',\n",
    "    'Light Bluish Gray': 'Gray',\n",
    "    'Light Grayish Blue': 'Gray',\n",
    "    'Light Grayish Orange': 'Orange',\n",
    "    'Light Nougat': 'Brown',\n",
    "    'Light Purple': 'Purple',\n",
    "    'Light Salmon': 'Red',\n",
    "    'Light Yellowish Orange': 'Yellow',\n",
    "    'Medium Blue-Violet': 'Blue',\n",
    "    'Medium Bluish Gray': 'Gray',\n",
    "    'Medium Dark Flesh': 'Brown',\n",
    "    'Medium Dark Pink': 'Pink',\n",
    "    'Medium Lavender': 'Purple',\n",
    "    'Medium Nougat': 'Brown',\n",
    "    'Medium Purple': 'Purple',\n",
    "    'Medium Reddish Brown': 'Brown',\n",
    "    'Medium Violet': 'Purple',\n",
    "    'Medium Yellowish Orange': 'Yellow',\n",
    "    'Bright Bluish Green': 'Green',\n",
    "    'Bright Bluish Violet': 'Blue',\n",
    "    'Bright Green': 'Green',\n",
    "    'Bright Orange': 'Orange',\n",
    "    'Bright Purple': 'Purple',\n",
    "    'Bright Reddish Violet': 'Red',\n",
    "    'Bright Violet': 'Purple',\n",
    "    'Bright Yellowish Green': 'Yellow',\n",
    "    'Light Bluish Green': 'Green',\n",
    "    'Light Bluish Violet': 'Blue',\n",
    "    'Light Bright Blue': 'Blue',\n",
    "    'Light Bright Green': 'Green',\n",
    "    'Light Brown': 'Brown',\n",
    "    'Trans-Yellow': 'Yellow',\n",
    "    'Trans-Black IR Lens': 'Black',\n",
    "    'Light': 'White',\n",
    "    'Salmon': 'Red',\n",
    "    'Light Violet': 'Purple',\n",
    "    'Glow In Dark Opaque': 'White',\n",
    "    'Dark Violet' : 'Purple',\n",
    "    'Trans Flame Yellowish Orange': 'Orange',\n",
    "    'Trans Fire Yellow': 'Yellow',\n",
    "    'Trans Light Royal' : 'Blue',\n",
    "    'Reddish Lilac': 'Purple',\n",
    "    'No Color' : 'Black',\n",
    "    'Trans-Dark': 'Black',\n",
    "    'Trans-Green': 'Green',\n",
    "    'Trans-Bright Green': 'Green',\n",
    "    'Trans-Red': 'Red',\n",
    "    'Trans-Black': 'Black',\n",
    "    'Chrome Gold': 'Metallic',\n",
    "    'Chrome Antique Brass': 'Metallic',\n",
    "    'Chrome Black': 'Metallic',\n",
    "    'Chrome Blue': 'Metallic',\n",
    "    'Chrome Green': 'Metallic',\n",
    "    'Chrome Pink': 'Metallic',\n",
    "    'Chrome Silver': 'Metallic',\n",
    "    'Fabuland Brown': 'Brown',\n",
    "    'Glow in Dark White': 'White',\n",
    "    'Trans-Light' : 'Clear',\n",
    "    'Trans-Neon Green': 'Green',\n",
    "    'Trans-Very Lt': 'Clear',\n",
    "    'Trans-Dark Pink': 'Pink',\n",
    "    'Trans-Clear': 'Clear',\n",
    "    'Trans-Purple': 'Purple',\n",
    "    'Trans-Neon Orange': 'Orange',\n",
    "    'Chrome' : 'Metallic',\n",
    "    'Reddish Brown': 'Brown',\n",
    "    'Trans-Neon Yellow': 'Yellow',\n",
    "    'Dark Bluish Gray': 'Gray',\n",
    "    'Medium': 'Unknown\\nWild Card',\n",
    "    'Speckle Black-Copper': 'Metallic',\n",
    "    'Speckle DBGray-Silver': 'Metallic',\n",
    "    'Light Flesh': 'Pink',\n",
    "    'Milky White': 'White',\n",
    "    'Metallic Silver': 'Metallic',\n",
    "    'Metallic Gold': 'Metallic',\n",
    "    'Metallic Green': 'Metallic',\n",
    "    'Metallic Gold' : 'Metallic',\n",
    "    'Royal': 'Blue',\n",
    "    'Flesh': 'Pink',\n",
    "    'Violet': 'Purple',\n",
    "    '-Violet': 'Purple',\n",
    "    'Glitter Trans-Dark Pink': 'Pink',\n",
    "    'Glitter Trans-Clear': 'Clear',\n",
    "    'Aqua': 'Blue',\n",
    "    'Glitter Trans-Purple': 'Purple',\n",
    "    'Speckle Black-Silver': 'Metallic',\n",
    "    'Speckle Black-Gold': 'Metallic',\n",
    "    'Copper': 'Metallic',\n",
    "    'Pearl Light Gray': 'Gray',\n",
    "    'Metal': 'Metallic',\n",
    "    'Pearl Light Gold': 'Metallic',\n",
    "    'Trans-Medium': 'Unknown\\nWild Card', \n",
    "    'Pearl Dark Gray': 'Gray',\n",
    "    'Pearl Very Light Gray': 'Gray',\n",
    "    'Flat Silver': 'Metallic',\n",
    "    'Trans-Orange': 'Orange',\n",
    "    'Pearl White': 'White',\n",
    "    'Bright Light': 'White',\n",
    "    'Rust': 'Brown',\n",
    "    'Trans-Pink': 'Pink',\n",
    "    'Sky': 'Blue',\n",
    "    'Trans-Light Purple': 'Purple',\n",
    "    'Dark': 'Unknown\\nWild Card',\n",
    "    'Glow In Dark Trans': 'Clear',\n",
    "    'Pearl Gold': 'Metallic',\n",
    "    'Maersk': 'Blue',\n",
    "    'Earth Orange': 'Orange',\n",
    "    'Sand': 'Yellow',\n",
    "    'Glitter Trans-Light': 'Clear',\n",
    "    'Yellowish Green': 'Green',\n",
    "    'Flat Dark Gold': 'Metallic',\n",
    "    'Glitter Trans-Neon Green': 'Green',\n",
    "}\n",
    "\n",
    "# Apply the mapping to create a new column 'group'\n",
    "colors['group'] = colors['name'].map(color_groups)\n",
    "\n",
    "# Count the number of unique names\n",
    "unique_groups_count = colors['group'].nunique()\n",
    "# Display the count of unique names\n",
    "print(f\"Number of unique groups: {unique_groups_count}\")\n",
    "print()\n",
    "\n",
    "# Check for unassigned names\n",
    "unassigned_names = colors[colors['group'].isna()]\n",
    "\n",
    "# Count how many have group as NaN\n",
    "na_count = unassigned_names.shape[0]\n",
    "print(f\"Number of unassigned names : {na_count}\")\n",
    "print()\n",
    "\n",
    "# Display unassigned names\n",
    "if not unassigned_names.empty:\n",
    "    print(\"Unassigned color names:\")\n",
    "    print(unassigned_names[['id', 'name']])\n",
    "else:\n",
    "    print(\"All color names have been assigned to a group.\")\n",
    "\n",
    "print(colors.head())"
   ]
  },
  {
   "cell_type": "markdown",
   "metadata": {},
   "source": [
    "## Color Graph  "
   ]
  },
  {
   "cell_type": "code",
   "execution_count": 109,
   "metadata": {},
   "outputs": [
    {
     "data": {
      "image/png": "[encoded data removed]",
      "text/plain": [
       "<Figure size 1000x600 with 1 Axes>"
      ]
     },
     "metadata": {},
     "output_type": "display_data"
    }
   ],
   "source": [
    "# Define the color mapping for the bar colors\n",
    "color_mapping = {\n",
    "    'Red': '#FF0000',\n",
    "    'Green': '#00FF00',\n",
    "    'Blue': '#2A9DF4',\n",
    "    'Purple': '#9370DB',\n",
    "    'Yellow': '#FFFF00',\n",
    "    'Orange': '#FF8B3D',\n",
    "    'Pink': '#FF6EC7',\n",
    "    'Black': '#000000',\n",
    "    'Brown': '#83653E',\n",
    "    'Gray': '#808080',\n",
    "    'White': '#FCFBF4',\n",
    "    'Clear': '#FFFFFF',\n",
    "    'Metallic': '#B5C0C9',\n",
    "    'Unknown\\nWild Card': '#A9A9A9'\n",
    "}\n",
    "\n",
    "# Count the occurrences of each group\n",
    "group_counts = colors['group'].value_counts()\n",
    "\n",
    "# Create the bar graph\n",
    "plt.figure(figsize=(10, 6))\n",
    "bars = plt.bar(group_counts.index, group_counts.values, color=[color_mapping[group] for group in group_counts.index], edgecolor='black')\n",
    "plt.title('Number of Colors in Each Group')\n",
    "plt.xlabel('Color Group')\n",
    "plt.ylabel('Count')\n",
    "plt.xticks(rotation=45)\n",
    "plt.show()"
   ]
  },
  {
   "cell_type": "markdown",
   "metadata": {},
   "source": [
    "## Special Color Features-- Glowing and Sparkling"
   ]
  },
  {
   "cell_type": "code",
   "execution_count": 110,
   "metadata": {},
   "outputs": [
    {
     "name": "stdout",
     "output_type": "stream",
     "text": [
      "\n",
      "Number of pieces that glow in the dark: 3\n",
      "\n",
      "Number of pieces with glitter: 5\n",
      "\n",
      "Number of pieces that are translucent: 28\n"
     ]
    }
   ],
   "source": [
    "# Count the number of color names containing 'glow'\n",
    "# Access the name column of the colors dataframe\n",
    "name_column = colors['name']\n",
    "# Count the number of color names containing 'glow' using the str.contains() method  \n",
    "# name_column.str.contains('glow', case=False, na=False) => returns a boolean series (column) where the color names contain 'glow'\n",
    "#.shape[0] => returns the number of rows in the series that contain 'True'\n",
    "glow_count = colors[name_column.str.contains('glow', case=False, na=False)].shape[0]\n",
    "print()\n",
    "\n",
    "# Display the count of color names containing 'glow'\n",
    "print(f\"Number of pieces that glow in the dark: {glow_count}\")\n",
    "print()\n",
    "\n",
    "# Count the number of color names containing 'glitter'\n",
    "glitter_count = colors[colors['name'].str.contains('glitter', case=False, na=False)].shape[0]\n",
    "\n",
    "# Display the count of color names containing 'glitter'\n",
    "print(f\"Number of pieces with glitter: {glitter_count}\")\n",
    "print()\n",
    "\n",
    "# Count the number of colors that have is_trans = True\n",
    "trans_count = colors[colors['is_trans'] == True].shape[0]\n",
    "\n",
    "# Display the count of colors that have is_trans = True\n",
    "print(f\"Number of pieces that are translucent: {trans_count}\")"
   ]
  },
  {
   "cell_type": "code",
   "execution_count": null,
   "metadata": {},
   "outputs": [],
   "source": []
  },
  {
   "cell_type": "markdown",
   "metadata": {},
   "source": [
    "## Using RGB hex codes for color names"
   ]
  },
  {
   "cell_type": "code",
   "execution_count": 111,
   "metadata": {},
   "outputs": [
    {
     "name": "stdout",
     "output_type": "stream",
     "text": [
      "lightsalmon\n"
     ]
    }
   ],
   "source": [
    "import webcolors\n",
    "\n",
    "color_name = webcolors.hex_to_name('#FFA07A')\n",
    "\n",
    "print(color_name)"
   ]
  },
  {
   "cell_type": "markdown",
   "metadata": {},
   "source": [
    "# Ideas for this data set\n",
    "* Group colors into 10 groups (124 colors out of 135 is too many)\n",
    "* Track popular themes and colors by year\n",
    "    ** datasets= colors, sets, themes\n",
    "* Only 12 pieces had more than version 1 released.  Where those the popular colors and themes?\n",
    "    ** dataset = inventories\n",
    "* How has the size of sets changed over time?\n",
    "* What colors are associated with which themes? \n",
    "* Could you predict which theme a set is from just by the bricks it contains?\n",
    "* What sets have the most-used pieces in them? What sets have the rarest pieces in them?\n",
    "* Have the colors of LEGOs included in sets changed over time?\n",
    "\n"
   ]
  },
  {
   "cell_type": "markdown",
   "metadata": {},
   "source": [
    "# Exploring each dataset"
   ]
  },
  {
   "cell_type": "markdown",
   "metadata": {},
   "source": [
    "## colors dataset"
   ]
  },
  {
   "cell_type": "code",
   "execution_count": 112,
   "metadata": {},
   "outputs": [
    {
     "name": "stdout",
     "output_type": "stream",
     "text": [
      "Exploring the data in the dataframe\n",
      "RangeIndex(start=0, stop=135, step=1)\n",
      "\n",
      "COLUMN NAMES\n",
      "Index(['id', 'name', 'rgb', 'is_trans', 'group'], dtype='object')\n",
      "\n",
      "There are 135 rows and 5 columns\n",
      "\n",
      "DATA TYPES\n",
      "id           int64\n",
      "name        object\n",
      "rgb         object\n",
      "is_trans      bool\n",
      "group       object\n",
      "dtype: object\n",
      "\n",
      "NUMBER OF UNIQUE VALUES IN EACH COLUMN\n",
      "id          135\n",
      "name        135\n",
      "rgb         124\n",
      "is_trans      2\n",
      "group        14\n",
      "dtype: int64\n",
      "\n",
      "PREVIEWING THE DATASET\n",
      "   id            name     rgb  is_trans               group\n",
      "0  -1         Unknown  0033B2     False  Unknown\\nWild Card\n",
      "1   0           Black  05131D     False               Black\n",
      "2   1            Blue  0055BF     False                Blue\n",
      "3   2           Green  237841     False               Green\n",
      "4   3  Dark Turquoise  008F9B     False                Blue\n",
      "\n",
      "<class 'pandas.core.frame.DataFrame'>\n",
      "RangeIndex: 135 entries, 0 to 134\n",
      "Data columns (total 5 columns):\n",
      " #   Column    Non-Null Count  Dtype \n",
      "---  ------    --------------  ----- \n",
      " 0   id        135 non-null    int64 \n",
      " 1   name      135 non-null    object\n",
      " 2   rgb       135 non-null    object\n",
      " 3   is_trans  135 non-null    bool  \n",
      " 4   group     135 non-null    object\n",
      "dtypes: bool(1), int64(1), object(3)\n",
      "memory usage: 4.5+ KB\n",
      "None\n",
      "\n",
      "NUMBER OF NON-NULL VALUES IN EACH COLUMN\n",
      "id          135\n",
      "name        135\n",
      "rgb         135\n",
      "is_trans    135\n",
      "group       135\n",
      "dtype: int64\n"
     ]
    }
   ],
   "source": [
    "investigate(colors)"
   ]
  },
  {
   "cell_type": "markdown",
   "metadata": {},
   "source": [
    "### rgb values"
   ]
  },
  {
   "cell_type": "code",
   "execution_count": 113,
   "metadata": {},
   "outputs": [
    {
     "name": "stdout",
     "output_type": "stream",
     "text": [
      "Top 15 most common RGB codes with their color names:\n",
      "       rgb  count                     name\n",
      "0   FFFFFF      3                    White\n",
      "1   FFFFFF      3              Milky White\n",
      "2   FFFFFF      3      Glitter Trans-Clear\n",
      "3   000000      3     Speckle Black-Copper\n",
      "4   000000      3     Speckle Black-Silver\n",
      "5   000000      3       Speckle Black-Gold\n",
      "6   D9E4A7      2       Trans-Bright Green\n",
      "7   D9E4A7      2               Light Lime\n",
      "8   635F52      2      Trans-Black IR Lens\n",
      "9   635F52      2              Trans-Black\n",
      "10  A5A5CB      2             Trans-Purple\n",
      "11  A5A5CB      2     Glitter Trans-Purple\n",
      "12  E4ADC8      2              Bright Pink\n",
      "13  E4ADC8      2               Trans-Pink\n",
      "14  C91A09      2                      Red\n",
      "15  C91A09      2                Trans-Red\n",
      "16  05131D      2                    Black\n",
      "17  05131D      2                 No Color\n",
      "18  DF6695      2          Trans-Dark Pink\n",
      "19  DF6695      2  Glitter Trans-Dark Pink\n"
     ]
    }
   ],
   "source": [
    "uniquecolors = colors['rgb'].nunique()\n",
    "nRow, nCol = colors.shape\n",
    "\n",
    "# Count the occurrences of each RGB color\n",
    "rgb_counts = colors['rgb'].value_counts().reset_index()\n",
    "rgb_counts.columns = ['rgb', 'count']\n",
    "\n",
    "# Merge the counts with the original DataFrame to get the color names\n",
    "top_20_rgb_colors = rgb_counts.merge(colors[['rgb', 'name']], on='rgb').drop_duplicates().head(20)\n",
    "\n",
    "# Display the top 10 most common RGB codes with their color names\n",
    "print(\"Top 15 most common RGB codes with their color names:\")\n",
    "print(top_20_rgb_colors)"
   ]
  },
  {
   "cell_type": "markdown",
   "metadata": {},
   "source": [
    "## inventory_sets dataset"
   ]
  },
  {
   "cell_type": "markdown",
   "metadata": {},
   "source": [
    "The dataset inventory_sets has 3 columns: inventory_id, set_num and quauntity.  The inventory_id is the piece/part, the quantity is the number of a specfic piece (inventory_id) included.  A set_num has multiple pieces (inventory_id).  A piece (inventory_id in inventory_sets = id in inventories) in some cases has had different versions (the versions of a piece are in the inventories dataset)\n",
    "\n",
    "The color is available for each inventory_id, and each inventory_id is categorized (windows, doors, bricks)."
   ]
  },
  {
   "cell_type": "code",
   "execution_count": 114,
   "metadata": {},
   "outputs": [
    {
     "name": "stdout",
     "output_type": "stream",
     "text": [
      "Exploring the data in the dataframe\n",
      "RangeIndex(start=0, stop=2846, step=1)\n",
      "\n",
      "COLUMN NAMES\n",
      "Index(['inventory_id', 'set_num', 'quantity'], dtype='object')\n",
      "\n",
      "There are 2846 rows and 3 columns\n",
      "\n",
      "DATA TYPES\n",
      "inventory_id     int64\n",
      "set_num         object\n",
      "quantity         int64\n",
      "dtype: object\n",
      "\n",
      "NUMBER OF UNIQUE VALUES IN EACH COLUMN\n",
      "inventory_id     589\n",
      "set_num         2306\n",
      "quantity           7\n",
      "dtype: int64\n",
      "\n",
      "PREVIEWING THE DATASET\n",
      "   inventory_id  set_num  quantity\n",
      "0            35  75911-1         1\n",
      "1            35  75912-1         1\n",
      "2            39  75048-1         1\n",
      "3            39  75053-1         1\n",
      "4            50   4515-1         1\n",
      "\n",
      "<class 'pandas.core.frame.DataFrame'>\n",
      "RangeIndex: 2846 entries, 0 to 2845\n",
      "Data columns (total 3 columns):\n",
      " #   Column        Non-Null Count  Dtype \n",
      "---  ------        --------------  ----- \n",
      " 0   inventory_id  2846 non-null   int64 \n",
      " 1   set_num       2846 non-null   object\n",
      " 2   quantity      2846 non-null   int64 \n",
      "dtypes: int64(2), object(1)\n",
      "memory usage: 66.8+ KB\n",
      "None\n",
      "\n",
      "NUMBER OF NON-NULL VALUES IN EACH COLUMN\n",
      "inventory_id    2846\n",
      "set_num         2846\n",
      "quantity        2846\n",
      "dtype: int64\n"
     ]
    }
   ],
   "source": [
    "investigate(inventory_sets)"
   ]
  },
  {
   "cell_type": "markdown",
   "metadata": {},
   "source": [
    "#### Most sets have only 1 of any kind of piece in the set.  There are 2,846 total peices (count of inventory_id).  2,793 pieces only occur once in a set (see below).\n",
    "\n",
    "To do: filter using Python to find what iventory_ids have quantities over 1.  What set_nums are they part of, what themes are they part of?"
   ]
  },
  {
   "cell_type": "code",
   "execution_count": 115,
   "metadata": {},
   "outputs": [
    {
     "name": "stdout",
     "output_type": "stream",
     "text": [
      "COUNT OF quantities...quantity and the number with that quantity\n"
     ]
    },
    {
     "data": {
      "text/plain": [
       "quantity\n",
       "1     2793\n",
       "2       28\n",
       "60      17\n",
       "3        5\n",
       "7        1\n",
       "5        1\n",
       "20       1\n",
       "Name: count, dtype: int64"
      ]
     },
     "execution_count": 115,
     "metadata": {},
     "output_type": "execute_result"
    }
   ],
   "source": [
    "print(\"COUNT OF quantities...quantity and the number with that quantity\")\n",
    "inventory_sets['quantity'].value_counts()"
   ]
  },
  {
   "cell_type": "markdown",
   "metadata": {},
   "source": [
    "quantity= the number of that iventory_id were included.  Each set_num has meany inventory_ids.\n",
    "\n",
    "\n",
    "What does it mean that quantity was \"1\" for most sets?  What does it mean if there was more than 1 of a set? the set \"Basic Building Set\" with set_num = 044-1 had what quantity?  This can't be the number sold, because the highest number is 60.\n",
    "\n",
    "044-1,Basic Building Set,1968,366,225\n",
    "\n",
    "set_num 4520-1 had quantity = 2\n",
    "name = Curved Rails\n",
    "year = 1991\n",
    "theme_id =244\n",
    "num_parts = 8\n",
    "\n",
    "14 sets had theme 244\n",
    "\n",
    "set_num = 4520-1, Curved Rails, 1991, theme = 244, 8 parts\n",
    "set_num = 4531-1, Manual Points, 1991, theme= 244, 6 parts\n",
    "\n",
    "set num 4530-1 had quantity 2 of iventory_id 50, quantity 5 of inventory_id 309, quantity 1 of inventory 6050, etc.\n"
   ]
  },
  {
   "cell_type": "markdown",
   "metadata": {},
   "source": [
    "## inventories dataset"
   ]
  },
  {
   "cell_type": "code",
   "execution_count": 116,
   "metadata": {},
   "outputs": [
    {
     "name": "stdout",
     "output_type": "stream",
     "text": [
      "Exploring the data in the dataframe\n",
      "RangeIndex(start=0, stop=11681, step=1)\n",
      "\n",
      "COLUMN NAMES\n",
      "Index(['dirid', 'version', 'set_num'], dtype='object')\n",
      "\n",
      "There are 11681 rows and 3 columns\n",
      "\n",
      "DATA TYPES\n",
      "dirid       int64\n",
      "version     int64\n",
      "set_num    object\n",
      "dtype: object\n",
      "\n",
      "NUMBER OF UNIQUE VALUES IN EACH COLUMN\n",
      "dirid      11681\n",
      "version        5\n",
      "set_num    11670\n",
      "dtype: int64\n",
      "\n",
      "PREVIEWING THE DATASET\n",
      "   dirid  version set_num\n",
      "0      1        1  7922-1\n",
      "1      3        1  3931-1\n",
      "2      4        1  6942-1\n",
      "3     15        1  5158-1\n",
      "4     16        1   903-1\n",
      "\n",
      "<class 'pandas.core.frame.DataFrame'>\n",
      "RangeIndex: 11681 entries, 0 to 11680\n",
      "Data columns (total 3 columns):\n",
      " #   Column   Non-Null Count  Dtype \n",
      "---  ------   --------------  ----- \n",
      " 0   dirid    11681 non-null  int64 \n",
      " 1   version  11681 non-null  int64 \n",
      " 2   set_num  11681 non-null  object\n",
      "dtypes: int64(2), object(1)\n",
      "memory usage: 273.9+ KB\n",
      "None\n",
      "\n",
      "NUMBER OF NON-NULL VALUES IN EACH COLUMN\n",
      "dirid      11681\n",
      "version    11681\n",
      "set_num    11681\n",
      "dtype: int64\n"
     ]
    }
   ],
   "source": [
    "investigate(inventories)"
   ]
  },
  {
   "cell_type": "markdown",
   "metadata": {},
   "source": [
    "#### Very few sets had more than one version released"
   ]
  },
  {
   "cell_type": "code",
   "execution_count": 117,
   "metadata": {},
   "outputs": [
    {
     "name": "stdout",
     "output_type": "stream",
     "text": [
      "COUNT OF DIFFERENT VERSIONS\n"
     ]
    },
    {
     "data": {
      "text/plain": [
       "version\n",
       "1    11669\n",
       "2        9\n",
       "3        1\n",
       "4        1\n",
       "5        1\n",
       "Name: count, dtype: int64"
      ]
     },
     "execution_count": 117,
     "metadata": {},
     "output_type": "execute_result"
    }
   ],
   "source": [
    "print(\"COUNT OF DIFFERENT VERSIONS\")\n",
    "inventories['version'].value_counts()"
   ]
  },
  {
   "cell_type": "markdown",
   "metadata": {},
   "source": [
    "## themes dataset"
   ]
  },
  {
   "cell_type": "code",
   "execution_count": 118,
   "metadata": {},
   "outputs": [
    {
     "name": "stdout",
     "output_type": "stream",
     "text": [
      "Exploring the data in the dataframe\n",
      "RangeIndex(start=0, stop=614, step=1)\n",
      "\n",
      "COLUMN NAMES\n",
      "Index(['id', 'name', 'parent_id'], dtype='object')\n",
      "\n",
      "There are 614 rows and 3 columns\n",
      "\n",
      "DATA TYPES\n",
      "id             int64\n",
      "name          object\n",
      "parent_id    float64\n",
      "dtype: object\n",
      "\n",
      "NUMBER OF UNIQUE VALUES IN EACH COLUMN\n",
      "id           614\n",
      "name         402\n",
      "parent_id     78\n",
      "dtype: int64\n",
      "\n",
      "PREVIEWING THE DATASET\n",
      "   id            name  parent_id\n",
      "0   1         Technic        NaN\n",
      "1   2  Arctic Technic        1.0\n",
      "2   3     Competition        1.0\n",
      "3   4  Expert Builder        1.0\n",
      "4   5           Model        1.0\n",
      "\n",
      "<class 'pandas.core.frame.DataFrame'>\n",
      "RangeIndex: 614 entries, 0 to 613\n",
      "Data columns (total 3 columns):\n",
      " #   Column     Non-Null Count  Dtype  \n",
      "---  ------     --------------  -----  \n",
      " 0   id         614 non-null    int64  \n",
      " 1   name       614 non-null    object \n",
      " 2   parent_id  503 non-null    float64\n",
      "dtypes: float64(1), int64(1), object(1)\n",
      "memory usage: 14.5+ KB\n",
      "None\n",
      "\n",
      "NUMBER OF NON-NULL VALUES IN EACH COLUMN\n",
      "id           614\n",
      "name         614\n",
      "parent_id    503\n",
      "dtype: int64\n"
     ]
    }
   ],
   "source": [
    "investigate(themes)"
   ]
  },
  {
   "cell_type": "markdown",
   "metadata": {},
   "source": [
    "### 78 total themes"
   ]
  },
  {
   "cell_type": "code",
   "execution_count": 119,
   "metadata": {},
   "outputs": [
    {
     "name": "stdout",
     "output_type": "stream",
     "text": [
      "There are 78 total themes.\n"
     ]
    }
   ],
   "source": [
    "nthemegroups = themes.parent_id.nunique()\n",
    "print(f\"There are {nthemegroups} total themes.\")"
   ]
  },
  {
   "cell_type": "markdown",
   "metadata": {},
   "source": [
    "## sets dataset"
   ]
  },
  {
   "cell_type": "code",
   "execution_count": 120,
   "metadata": {},
   "outputs": [
    {
     "name": "stdout",
     "output_type": "stream",
     "text": [
      "Exploring the data in the dataframe\n",
      "RangeIndex(start=0, stop=11673, step=1)\n",
      "\n",
      "COLUMN NAMES\n",
      "Index(['set_num', 'name', 'year', 'theme_id', 'num_parts'], dtype='object')\n",
      "\n",
      "There are 11673 rows and 5 columns\n",
      "\n",
      "DATA TYPES\n",
      "set_num      object\n",
      "name         object\n",
      "year          int64\n",
      "theme_id      int64\n",
      "num_parts     int64\n",
      "dtype: object\n",
      "\n",
      "NUMBER OF UNIQUE VALUES IN EACH COLUMN\n",
      "set_num      11673\n",
      "name         10370\n",
      "year            66\n",
      "theme_id       575\n",
      "num_parts     1092\n",
      "dtype: int64\n",
      "\n",
      "PREVIEWING THE DATASET\n",
      "  set_num                        name  year  theme_id  num_parts\n",
      "0    00-1             Weetabix Castle  1970       414        471\n",
      "1  0011-2           Town Mini-Figures  1978        84         12\n",
      "2  0011-3  Castle 2 for 1 Bonus Offer  1987       199          2\n",
      "3  0012-1          Space Mini-Figures  1979       143         12\n",
      "4  0013-1          Space Mini-Figures  1979       143         12\n",
      "\n",
      "<class 'pandas.core.frame.DataFrame'>\n",
      "RangeIndex: 11673 entries, 0 to 11672\n",
      "Data columns (total 5 columns):\n",
      " #   Column     Non-Null Count  Dtype \n",
      "---  ------     --------------  ----- \n",
      " 0   set_num    11673 non-null  object\n",
      " 1   name       11673 non-null  object\n",
      " 2   year       11673 non-null  int64 \n",
      " 3   theme_id   11673 non-null  int64 \n",
      " 4   num_parts  11673 non-null  int64 \n",
      "dtypes: int64(3), object(2)\n",
      "memory usage: 456.1+ KB\n",
      "None\n",
      "\n",
      "NUMBER OF NON-NULL VALUES IN EACH COLUMN\n",
      "set_num      11673\n",
      "name         11673\n",
      "year         11673\n",
      "theme_id     11673\n",
      "num_parts    11673\n",
      "dtype: int64\n"
     ]
    }
   ],
   "source": [
    "investigate(sets)"
   ]
  },
  {
   "cell_type": "code",
   "execution_count": 121,
   "metadata": {},
   "outputs": [
    {
     "data": {
      "text/plain": [
       "<bound method IndexOpsMixin.value_counts of 0          7922-1\n",
       "1          3931-1\n",
       "2          6942-1\n",
       "3          5158-1\n",
       "4           903-1\n",
       "           ...   \n",
       "11676     31066-1\n",
       "11677     71018-7\n",
       "11678    71018-17\n",
       "11679     60159-1\n",
       "11680     75090-2\n",
       "Name: set_num, Length: 11681, dtype: object>"
      ]
     },
     "execution_count": 121,
     "metadata": {},
     "output_type": "execute_result"
    }
   ],
   "source": [
    "inventories.set_num.value_counts"
   ]
  },
  {
   "cell_type": "markdown",
   "metadata": {},
   "source": [
    "## sets part_categories"
   ]
  },
  {
   "cell_type": "code",
   "execution_count": 122,
   "metadata": {},
   "outputs": [
    {
     "name": "stdout",
     "output_type": "stream",
     "text": [
      "Exploring the data in the dataframe\n",
      "RangeIndex(start=0, stop=57, step=1)\n",
      "\n",
      "COLUMN NAMES\n",
      "Index(['id', 'name'], dtype='object')\n",
      "\n",
      "There are 57 rows and 2 columns\n",
      "\n",
      "DATA TYPES\n",
      "id       int64\n",
      "name    object\n",
      "dtype: object\n",
      "\n",
      "NUMBER OF UNIQUE VALUES IN EACH COLUMN\n",
      "id      57\n",
      "name    57\n",
      "dtype: int64\n",
      "\n",
      "PREVIEWING THE DATASET\n",
      "   id                     name\n",
      "0   1               Baseplates\n",
      "1   2           Bricks Printed\n",
      "2   3            Bricks Sloped\n",
      "3   4  Duplo, Quatro and Primo\n",
      "4   5           Bricks Special\n",
      "\n",
      "<class 'pandas.core.frame.DataFrame'>\n",
      "RangeIndex: 57 entries, 0 to 56\n",
      "Data columns (total 2 columns):\n",
      " #   Column  Non-Null Count  Dtype \n",
      "---  ------  --------------  ----- \n",
      " 0   id      57 non-null     int64 \n",
      " 1   name    57 non-null     object\n",
      "dtypes: int64(1), object(1)\n",
      "memory usage: 1.0+ KB\n",
      "None\n",
      "\n",
      "NUMBER OF NON-NULL VALUES IN EACH COLUMN\n",
      "id      57\n",
      "name    57\n",
      "dtype: int64\n"
     ]
    }
   ],
   "source": [
    "investigate(part_categories)"
   ]
  }
 ],
 "metadata": {
  "kernelspec": {
   "display_name": "tryenvir",
   "language": "python",
   "name": "python3"
  },
  "language_info": {
   "codemirror_mode": {
    "name": "ipython",
    "version": 3
   },
   "file_extension": ".py",
   "mimetype": "text/x-python",
   "name": "python",
   "nbconvert_exporter": "python",
   "pygments_lexer": "ipython3",
   "version": "3.8.20"
  }
 },
 "nbformat": 4,
 "nbformat_minor": 2
}
