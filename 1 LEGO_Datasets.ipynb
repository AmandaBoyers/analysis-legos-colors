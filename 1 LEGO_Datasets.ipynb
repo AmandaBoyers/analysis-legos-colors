{
 "cells": [
  {
   "cell_type": "code",
   "execution_count": 150,
   "metadata": {},
   "outputs": [],
   "source": [
    "from mpl_toolkits.mplot3d import Axes3D\n",
    "from sklearn.preprocessing import StandardScaler\n",
    "import matplotlib.pyplot as plt # plotting\n",
    "import numpy as np # linear algebra\n",
    "import os # accessing directory structure\n",
    "import pandas as pd # data processing, CSV file I/O (e.g. pd.read_csv)"
   ]
  },
  {
   "cell_type": "code",
   "execution_count": 151,
   "metadata": {},
   "outputs": [
    {
     "name": "stdout",
     "output_type": "stream",
     "text": [
      "['.conda', '.git', '.gitattributes', '.gitignore', '1 LEGO_Datasets.ipynb', 'colors.csv', 'demo.py', 'downloads_schema.png', 'inventories.csv', 'inventory_parts.csv', 'inventory_sets.csv', 'LICENSE.txt', 'markdown-diff', 'morelearning.ipynb', 'parts.csv', 'part_categories.csv', 'README.md', 'sets.csv', 'themes.csv']\n"
     ]
    }
   ],
   "source": [
    "print(os.listdir())"
   ]
  },
  {
   "cell_type": "markdown",
   "metadata": {},
   "source": [
    "## Creating the Panda dataframes"
   ]
  },
  {
   "cell_type": "code",
   "execution_count": 152,
   "metadata": {},
   "outputs": [],
   "source": [
    "colors = pd.read_csv(\"colors.csv\", dtype={'name': 'str', 'rgb': 'str'})\n",
    "inventories = pd.read_csv(\"inventories.csv\")\n",
    "inventory_parts = pd.read_csv(\"inventory_parts.csv\")\n",
    "inventory_sets = pd.read_csv(\"inventory_sets.csv\")\n",
    "part_categories = pd.read_csv(\"part_categories.csv\")\n",
    "parts = pd.read_csv(\"parts.csv\")\n",
    "sets = pd.read_csv(\"sets.csv\")\n",
    "themes = pd.read_csv(\"themes.csv\")"
   ]
  },
  {
   "cell_type": "markdown",
   "metadata": {},
   "source": [
    "## Creating the investigate function"
   ]
  },
  {
   "cell_type": "code",
   "execution_count": 153,
   "metadata": {},
   "outputs": [],
   "source": [
    "def investigate(db):\n",
    "    \"\"\"explores the data\"\"\"\n",
    "\n",
    "    \n",
    "    print(f\"Exploring the data in the dataframe\")\n",
    "    print(db.index)\n",
    "    print(\"\")\n",
    "    print(\"COLUMN NAMES\")\n",
    "    print(db.columns)\n",
    "    print()\n",
    "    nRow, nCol = db.shape\n",
    "    print(f'There are {nRow} rows and {nCol} columns')\n",
    "    print()\n",
    "    print(\"DATA TYPES\")\n",
    "    print(db.dtypes)\n",
    "    print()\n",
    "    print(\"NUMBER OF UNIQUE VALUES IN EACH COLUMN\")\n",
    "    print(db.nunique())\n",
    "    print()\n",
    "    print(\"PREVIEWING THE DATASET\")\n",
    "    print(db.head())\n",
    "    print()\n",
    "    print(db.info())\n",
    "    print()\n",
    "    print(\"NUMBER OF NON-NULL VALUES IN EACH COLUMN\")\n",
    "    print(db.count())\n"
   ]
  },
  {
   "cell_type": "code",
   "execution_count": 154,
   "metadata": {},
   "outputs": [
    {
     "name": "stdout",
     "output_type": "stream",
     "text": [
      "Number of unique groups: 14\n",
      "\n",
      "Number of unassigned names : 28\n",
      "\n",
      "Unassigned color names:\n",
      "       id                      name\n",
      "80    129      Glitter Trans-Purple\n",
      "81    132      Speckle Black-Silver\n",
      "82    133        Speckle Black-Gold\n",
      "83    134                    Copper\n",
      "84    135          Pearl Light Gray\n",
      "85    137                     Metal\n",
      "86    142          Pearl Light Gold\n",
      "87    143              Trans-Medium\n",
      "88    148           Pearl Dark Gray\n",
      "89    150     Pearl Very Light Gray\n",
      "91    158           Yellowish Green\n",
      "92    178            Flat Dark Gold\n",
      "93    179               Flat Silver\n",
      "94    182              Trans-Orange\n",
      "95    183               Pearl White\n",
      "97    212              Bright Light\n",
      "98    216                      Rust\n",
      "100   230                Trans-Pink\n",
      "101   232                       Sky\n",
      "102   236        Trans-Light Purple\n",
      "103   272                      Dark\n",
      "105   294        Glow In Dark Trans\n",
      "106   297                Pearl Gold\n",
      "108   313                    Maersk\n",
      "117   366              Earth Orange\n",
      "120   379                      Sand\n",
      "128  1002  Glitter Trans-Neon Green\n",
      "129  1003       Glitter Trans-Light\n",
      "Number of color names containing 'glitter': 5\n",
      "\n",
      "   id            name     rgb  is_trans    group\n",
      "0  -1         Unknown  0033B2     False  Unknown\n",
      "1   0           Black  05131D     False    Black\n",
      "2   1            Blue  0055BF     False     Blue\n",
      "3   2           Green  237841     False    Green\n",
      "4   3  Dark Turquoise  008F9B     False     Blue\n"
     ]
    }
   ],
   "source": [
    "# Remove extraneous quotes\n",
    "colors['name'] = colors['name'].str.replace(r'^[\"\\']|[\"\\']$', '', regex=True)\n",
    "colors['name'] = colors['name'].str.replace(r\"'-\", '', regex=True)\n",
    "colors['name'] = colors['name'].str.replace(r'[\\[\\]]', '', regex=True) #remove brackets\n",
    "# Strip leading/trailing spaces\n",
    "colors['name'] = colors['name'].str.strip()\n",
    "# Replace 'f' with False and 't' with True\n",
    "colors['is_trans'] = colors['is_trans'].replace({'f': False, 't': True})\n",
    "# Define the mapping of color names to groups\n",
    "color_groups = {\n",
    "    'Red': 'Red',\n",
    "    'Green': 'Green',\n",
    "    'Blue': 'Blue',\n",
    "    'Light Blue': 'Blue',\n",
    "    'Dark Green': 'Green',\n",
    "    'Medium Lavender': 'Purple',\n",
    "    'Yellow': 'Yellow',\n",
    "    'Orange': 'Orange',\n",
    "    'Pink': 'Pink',\n",
    "    'Unknown': 'Unknown',\n",
    "    'Black': 'Black',\n",
    "    'Dark Turquoise': 'Blue',\n",
    "    'Medium Blue': 'Blue',\n",
    "    'Tan': 'Brown',\n",
    "    'Light Gray': 'Gray',\n",
    "    'Dark Gray': 'Gray',\n",
    "    'Brown': 'Brown',\n",
    "    'White': 'White',\n",
    "    'Purple': 'Purple',\n",
    "    'Lime': 'Green',\n",
    "    'Magenta': 'Pink',\n",
    "    'Dark Pink': 'Pink',\n",
    "    'Light Pink': 'Pink',\n",
    "    'Bright Pink': 'Pink',\n",
    "    'Lavender': 'Purple',\n",
    "    'Sand Blue': 'Blue',\n",
    "    'Sand Green': 'Green',\n",
    "    'Sand Purple': 'Purple',\n",
    "    'Sand Red': 'Red',\n",
    "    'Sand Yellow': 'Yellow',\n",
    "    'Dark Red': 'Red',\n",
    "    'Medium Dark Pink': 'Pink',\n",
    "    'Dark Brown': 'Brown',\n",
    "    'Medium Azure': 'Blue',\n",
    "    'Medium Blue': 'Blue',\n",
    "    'Medium Green': 'Green',\n",
    "    'Medium Lime': 'Green',\n",
    "    'Medium Orange': 'Orange',\n",
    "    'Medium Red': 'Red',\n",
    "    'Medium Violet': 'Purple',\n",
    "    'Medium Yellow': 'Yellow',\n",
    "    'Bright Light Blue': 'Blue',\n",
    "    'Bright Light Orange': 'Orange',\n",
    "    'Bright Light Yellow': 'Yellow',\n",
    "    'Bright Purple': 'Purple',\n",
    "    'Bright Red': 'Red',\n",
    "    'Bright Yellow': 'Yellow',\n",
    "    'Light Aqua': 'Blue',\n",
    "    'Light Green': 'Green',\n",
    "    'Light Lime': 'Green',\n",
    "    'Light Orange': 'Orange',\n",
    "    'Light Purple': 'Purple',\n",
    "    'Light Salmon': 'Red',\n",
    "    'Light Turquoise': 'Blue',\n",
    "    'Light Yellow': 'Yellow',\n",
    "    'Olive Green': 'Green',\n",
    "    'Very Light Bluish Gray': 'Gray',\n",
    "    'Very Light Gray': 'Gray',\n",
    "    'Very Light Orange': 'Orange',\n",
    "    'Very Light Yellow': 'Yellow',\n",
    "    'Dark Blue-Violet': 'Blue',\n",
    "    'Dark Blue': 'Blue',\n",
    "    'Dark Azure': 'Blue',\n",
    "    'Dark Orange': 'Orange',\n",
    "    'Dark Tan': 'Brown',\n",
    "    'Dark Purple': 'Purple',\n",
    "    'Dark Flesh': 'Brown',\n",
    "    'Dark Salmon': 'Red',\n",
    "    'Dark Yellow': 'Yellow',\n",
    "    'Light Blue-Violet': 'Blue',\n",
    "    'Light Bluish Gray': 'Gray',\n",
    "    'Light Grayish Blue': 'Gray',\n",
    "    'Light Grayish Orange': 'Orange',\n",
    "    'Light Nougat': 'Brown',\n",
    "    'Light Purple': 'Purple',\n",
    "    'Light Salmon': 'Red',\n",
    "    'Light Yellowish Orange': 'Yellow',\n",
    "    'Medium Blue-Violet': 'Blue',\n",
    "    'Medium Bluish Gray': 'Gray',\n",
    "    'Medium Dark Flesh': 'Brown',\n",
    "    'Medium Dark Pink': 'Pink',\n",
    "    'Medium Lavender': 'Purple',\n",
    "    'Medium Nougat': 'Brown',\n",
    "    'Medium Purple': 'Purple',\n",
    "    'Medium Reddish Brown': 'Brown',\n",
    "    'Medium Violet': 'Purple',\n",
    "    'Medium Yellowish Orange': 'Yellow',\n",
    "    'Bright Bluish Green': 'Green',\n",
    "    'Bright Bluish Violet': 'Blue',\n",
    "    'Bright Green': 'Green',\n",
    "    'Bright Orange': 'Orange',\n",
    "    'Bright Purple': 'Purple',\n",
    "    'Bright Reddish Violet': 'Red',\n",
    "    'Bright Violet': 'Purple',\n",
    "    'Bright Yellowish Green': 'Yellow',\n",
    "    'Light Bluish Green': 'Green',\n",
    "    'Light Bluish Violet': 'Blue',\n",
    "    'Light Bright Blue': 'Blue',\n",
    "    'Light Bright Green': 'Green',\n",
    "    'Light Brown': 'Brown',\n",
    "    'Trans-Yellow': 'Yellow',\n",
    "    'Trans-Black IR Lens': 'Black',\n",
    "    'Light': 'White',\n",
    "    'Salmon': 'Red',\n",
    "    'Light Violet': 'Purple',\n",
    "    'Glow In Dark Opaque': 'White',\n",
    "    'Dark Violet' : 'Purple',\n",
    "    'Trans Flame Yellowish Orange': 'Orange',\n",
    "    'Trans Fire Yellow': 'Yellow',\n",
    "    'Trans Light Royal' : 'Blue',\n",
    "    'Reddish Lilac': 'Purple',\n",
    "    'No Color' : 'Clear',\n",
    "    'Trans-Dark': 'Black',\n",
    "    'Trans-Green': 'Green',\n",
    "    'Trans-Bright Green': 'Green',\n",
    "    'Trans-Red': 'Red',\n",
    "    'Trans-Black': 'Black',\n",
    "    'Chrome Gold': 'Metallic',\n",
    "    'Chrome Antique Brass': 'Metallic',\n",
    "    'Chrome Black': 'Metallic',\n",
    "    'Chrome Blue': 'Metallic',\n",
    "    'Chrome Green': 'Metallic',\n",
    "    'Chrome Pink': 'Metallic',\n",
    "    'Chrome Silver': 'Metallic',\n",
    "    'Fabuland Brown': 'Brown',\n",
    "    'Glow in Dark White': 'White',\n",
    "    'Trans-Light' : 'Clear',\n",
    "    'Trans-Neon Green': 'Green',\n",
    "    'Trans-Very Lt': 'Clear',\n",
    "    'Trans-Dark Pink': 'Pink',\n",
    "    'Trans-Clear': 'Clear',\n",
    "    'Trans-Purple': 'Purple',\n",
    "    'Trans-Neon Orange': 'Orange',\n",
    "    'Chrome' : 'Metallic',\n",
    "    'Reddish Brown': 'Brown',\n",
    "    'Trans-Neon Yellow': 'Yellow',\n",
    "    'Dark Bluish Gray': 'Gray',\n",
    "    'Medium': 'Unknown',\n",
    "    'Speckle Black-Copper': 'Metallic',\n",
    "    'Speckle DBGray-Silver': 'Metallic',\n",
    "    'Light Flesh': 'Pink',\n",
    "    'Milky White': 'White',\n",
    "    'Metallic Silver': 'Metallic',\n",
    "    'Metallic Gold': 'Metallic',\n",
    "    'Metallic Green': 'Metallic',\n",
    "    'Metallic Gold' : 'Metallic',\n",
    "    'Royal': 'Blue',\n",
    "    'Flesh': 'Pink',\n",
    "    'Violet': 'Purple',\n",
    "    '-Violet': 'Purple',\n",
    "    'Glitter Trans-Dark Pink': 'Pink',\n",
    "    'Glitter Trans-Clear': 'Clear',\n",
    "    'Aqua': 'Blue',\n",
    "    \n",
    "    \n",
    "\n",
    "\n",
    "    \n",
    "}\n",
    "\n",
    "# Apply the mapping to create a new column 'group'\n",
    "colors['group'] = colors['name'].map(color_groups)\n",
    "\n",
    "# Count the number of unique names\n",
    "unique_groups_count = colors['group'].nunique()\n",
    "# Display the count of unique names\n",
    "print(f\"Number of unique groups: {unique_groups_count}\")\n",
    "print()\n",
    "\n",
    "# Check for unassigned names\n",
    "unassigned_names = colors[colors['group'].isna()]\n",
    "\n",
    "# Count how many have group as NaN\n",
    "na_count = unassigned_names.shape[0]\n",
    "print(f\"Number of unassigned names : {na_count}\")\n",
    "print()\n",
    "\n",
    "# Display unassigned names\n",
    "if not unassigned_names.empty:\n",
    "    print(\"Unassigned color names:\")\n",
    "    print(unassigned_names[['id', 'name']])\n",
    "else:\n",
    "    print(\"All color names have been assigned to a group.\")\n",
    "\n",
    "# Count the number of color names containing 'glitter'\n",
    "glitter_count = colors[colors['name'].str.contains('glitter', case=False, na=False)].shape[0]\n",
    "\n",
    "# Display the count of color names containing 'glitter'\n",
    "print(f\"Number of color names containing 'glitter': {glitter_count}\")\n",
    "print()\n",
    "\n",
    "print(colors.head())"
   ]
  },
  {
   "cell_type": "markdown",
   "metadata": {},
   "source": [
    "## Using RGB hex codes for color names"
   ]
  },
  {
   "cell_type": "code",
   "execution_count": 156,
   "metadata": {},
   "outputs": [
    {
     "ename": "UnboundLocalError",
     "evalue": "local variable 'rgb_value' referenced before assignment",
     "output_type": "error",
     "traceback": [
      "\u001b[1;31m---------------------------------------------------------------------------\u001b[0m",
      "\u001b[1;31mValueError\u001b[0m                                Traceback (most recent call last)",
      "Cell \u001b[1;32mIn[156], line 6\u001b[0m, in \u001b[0;36mhex_to_color_name\u001b[1;34m(hex_value)\u001b[0m\n\u001b[0;32m      4\u001b[0m \u001b[38;5;28;01mtry\u001b[39;00m:\n\u001b[0;32m      5\u001b[0m     \u001b[38;5;66;03m# Convert hex to RGB tuple\u001b[39;00m\n\u001b[1;32m----> 6\u001b[0m     rgb_value \u001b[38;5;241m=\u001b[39m \u001b[43mwebcolors\u001b[49m\u001b[38;5;241;43m.\u001b[39;49m\u001b[43mhex_to_rgb\u001b[49m\u001b[43m(\u001b[49m\u001b[43mhex_value\u001b[49m\u001b[43m)\u001b[49m\n\u001b[0;32m      7\u001b[0m     \u001b[38;5;66;03m# Get the closest color name\u001b[39;00m\n",
      "File \u001b[1;32mc:\\Users\\Mon Amour\\.conda\\envs\\tryenvir\\lib\\site-packages\\webcolors\\_conversion.py:177\u001b[0m, in \u001b[0;36mhex_to_rgb\u001b[1;34m(hex_value)\u001b[0m\n\u001b[0;32m    158\u001b[0m \u001b[38;5;250m\u001b[39m\u001b[38;5;124;03m\"\"\"\u001b[39;00m\n\u001b[0;32m    159\u001b[0m \u001b[38;5;124;03mConvert a hexadecimal color value to a 3-:class:`tuple` of :class:`int` suitable\u001b[39;00m\n\u001b[0;32m    160\u001b[0m \u001b[38;5;124;03mfor use in an ``rgb()`` triplet specifying that color.\u001b[39;00m\n\u001b[1;32m   (...)\u001b[0m\n\u001b[0;32m    175\u001b[0m \n\u001b[0;32m    176\u001b[0m \u001b[38;5;124;03m\"\"\"\u001b[39;00m\n\u001b[1;32m--> 177\u001b[0m int_value \u001b[38;5;241m=\u001b[39m \u001b[38;5;28mint\u001b[39m(\u001b[43mnormalize_hex\u001b[49m\u001b[43m(\u001b[49m\u001b[43mhex_value\u001b[49m\u001b[43m)\u001b[49m[\u001b[38;5;241m1\u001b[39m:], \u001b[38;5;241m16\u001b[39m)\n\u001b[0;32m    178\u001b[0m \u001b[38;5;28;01mreturn\u001b[39;00m IntegerRGB(int_value \u001b[38;5;241m>>\u001b[39m \u001b[38;5;241m16\u001b[39m, int_value \u001b[38;5;241m>>\u001b[39m \u001b[38;5;241m8\u001b[39m \u001b[38;5;241m&\u001b[39m \u001b[38;5;241m0xFF\u001b[39m, int_value \u001b[38;5;241m&\u001b[39m \u001b[38;5;241m0xFF\u001b[39m)\n",
      "File \u001b[1;32mc:\\Users\\Mon Amour\\.conda\\envs\\tryenvir\\lib\\site-packages\\webcolors\\_normalization.py:48\u001b[0m, in \u001b[0;36mnormalize_hex\u001b[1;34m(hex_value)\u001b[0m\n\u001b[0;32m     47\u001b[0m \u001b[38;5;28;01mif\u001b[39;00m (match \u001b[38;5;241m:=\u001b[39m _HEX_COLOR_RE\u001b[38;5;241m.\u001b[39mmatch(hex_value)) \u001b[38;5;129;01mis\u001b[39;00m \u001b[38;5;28;01mNone\u001b[39;00m:\n\u001b[1;32m---> 48\u001b[0m     \u001b[38;5;28;01mraise\u001b[39;00m \u001b[38;5;167;01mValueError\u001b[39;00m(\u001b[38;5;124mf\u001b[39m\u001b[38;5;124m'\u001b[39m\u001b[38;5;124m\"\u001b[39m\u001b[38;5;132;01m{\u001b[39;00mhex_value\u001b[38;5;132;01m}\u001b[39;00m\u001b[38;5;124m\"\u001b[39m\u001b[38;5;124m is not a valid hexadecimal color value.\u001b[39m\u001b[38;5;124m'\u001b[39m)\n\u001b[0;32m     49\u001b[0m hex_digits \u001b[38;5;241m=\u001b[39m match\u001b[38;5;241m.\u001b[39mgroup(\u001b[38;5;241m1\u001b[39m)\n",
      "\u001b[1;31mValueError\u001b[0m: \"0033B2\" is not a valid hexadecimal color value.",
      "\nDuring handling of the above exception, another exception occurred:\n",
      "\u001b[1;31mUnboundLocalError\u001b[0m                         Traceback (most recent call last)",
      "Cell \u001b[1;32mIn[156], line 25\u001b[0m\n\u001b[0;32m     22\u001b[0m     \u001b[38;5;28;01mreturn\u001b[39;00m min_colors[\u001b[38;5;28mmin\u001b[39m(min_colors\u001b[38;5;241m.\u001b[39mkeys())]\n\u001b[0;32m     24\u001b[0m \u001b[38;5;66;03m# Create a new column 'color_name' to store the standard color names\u001b[39;00m\n\u001b[1;32m---> 25\u001b[0m colors[\u001b[38;5;124m'\u001b[39m\u001b[38;5;124mcolor_name\u001b[39m\u001b[38;5;124m'\u001b[39m] \u001b[38;5;241m=\u001b[39m \u001b[43mcolors\u001b[49m\u001b[43m[\u001b[49m\u001b[38;5;124;43m'\u001b[39;49m\u001b[38;5;124;43mrgb\u001b[39;49m\u001b[38;5;124;43m'\u001b[39;49m\u001b[43m]\u001b[49m\u001b[38;5;241;43m.\u001b[39;49m\u001b[43mapply\u001b[49m\u001b[43m(\u001b[49m\u001b[43mhex_to_color_name\u001b[49m\u001b[43m)\u001b[49m\n\u001b[0;32m     27\u001b[0m \u001b[38;5;28mprint\u001b[39m(colors\u001b[38;5;241m.\u001b[39mhead())\n",
      "File \u001b[1;32mc:\\Users\\Mon Amour\\.conda\\envs\\tryenvir\\lib\\site-packages\\pandas\\core\\series.py:4630\u001b[0m, in \u001b[0;36mSeries.apply\u001b[1;34m(self, func, convert_dtype, args, **kwargs)\u001b[0m\n\u001b[0;32m   4520\u001b[0m \u001b[38;5;28;01mdef\u001b[39;00m \u001b[38;5;21mapply\u001b[39m(\n\u001b[0;32m   4521\u001b[0m     \u001b[38;5;28mself\u001b[39m,\n\u001b[0;32m   4522\u001b[0m     func: AggFuncType,\n\u001b[1;32m   (...)\u001b[0m\n\u001b[0;32m   4525\u001b[0m     \u001b[38;5;241m*\u001b[39m\u001b[38;5;241m*\u001b[39mkwargs,\n\u001b[0;32m   4526\u001b[0m ) \u001b[38;5;241m-\u001b[39m\u001b[38;5;241m>\u001b[39m DataFrame \u001b[38;5;241m|\u001b[39m Series:\n\u001b[0;32m   4527\u001b[0m \u001b[38;5;250m    \u001b[39m\u001b[38;5;124;03m\"\"\"\u001b[39;00m\n\u001b[0;32m   4528\u001b[0m \u001b[38;5;124;03m    Invoke function on values of Series.\u001b[39;00m\n\u001b[0;32m   4529\u001b[0m \n\u001b[1;32m   (...)\u001b[0m\n\u001b[0;32m   4628\u001b[0m \u001b[38;5;124;03m    dtype: float64\u001b[39;00m\n\u001b[0;32m   4629\u001b[0m \u001b[38;5;124;03m    \"\"\"\u001b[39;00m\n\u001b[1;32m-> 4630\u001b[0m     \u001b[38;5;28;01mreturn\u001b[39;00m \u001b[43mSeriesApply\u001b[49m\u001b[43m(\u001b[49m\u001b[38;5;28;43mself\u001b[39;49m\u001b[43m,\u001b[49m\u001b[43m \u001b[49m\u001b[43mfunc\u001b[49m\u001b[43m,\u001b[49m\u001b[43m \u001b[49m\u001b[43mconvert_dtype\u001b[49m\u001b[43m,\u001b[49m\u001b[43m \u001b[49m\u001b[43margs\u001b[49m\u001b[43m,\u001b[49m\u001b[43m \u001b[49m\u001b[43mkwargs\u001b[49m\u001b[43m)\u001b[49m\u001b[38;5;241;43m.\u001b[39;49m\u001b[43mapply\u001b[49m\u001b[43m(\u001b[49m\u001b[43m)\u001b[49m\n",
      "File \u001b[1;32mc:\\Users\\Mon Amour\\.conda\\envs\\tryenvir\\lib\\site-packages\\pandas\\core\\apply.py:1025\u001b[0m, in \u001b[0;36mSeriesApply.apply\u001b[1;34m(self)\u001b[0m\n\u001b[0;32m   1022\u001b[0m     \u001b[38;5;28;01mreturn\u001b[39;00m \u001b[38;5;28mself\u001b[39m\u001b[38;5;241m.\u001b[39mapply_str()\n\u001b[0;32m   1024\u001b[0m \u001b[38;5;66;03m# self.f is Callable\u001b[39;00m\n\u001b[1;32m-> 1025\u001b[0m \u001b[38;5;28;01mreturn\u001b[39;00m \u001b[38;5;28;43mself\u001b[39;49m\u001b[38;5;241;43m.\u001b[39;49m\u001b[43mapply_standard\u001b[49m\u001b[43m(\u001b[49m\u001b[43m)\u001b[49m\n",
      "File \u001b[1;32mc:\\Users\\Mon Amour\\.conda\\envs\\tryenvir\\lib\\site-packages\\pandas\\core\\apply.py:1076\u001b[0m, in \u001b[0;36mSeriesApply.apply_standard\u001b[1;34m(self)\u001b[0m\n\u001b[0;32m   1074\u001b[0m     \u001b[38;5;28;01melse\u001b[39;00m:\n\u001b[0;32m   1075\u001b[0m         values \u001b[38;5;241m=\u001b[39m obj\u001b[38;5;241m.\u001b[39mastype(\u001b[38;5;28mobject\u001b[39m)\u001b[38;5;241m.\u001b[39m_values\n\u001b[1;32m-> 1076\u001b[0m         mapped \u001b[38;5;241m=\u001b[39m \u001b[43mlib\u001b[49m\u001b[38;5;241;43m.\u001b[39;49m\u001b[43mmap_infer\u001b[49m\u001b[43m(\u001b[49m\n\u001b[0;32m   1077\u001b[0m \u001b[43m            \u001b[49m\u001b[43mvalues\u001b[49m\u001b[43m,\u001b[49m\n\u001b[0;32m   1078\u001b[0m \u001b[43m            \u001b[49m\u001b[43mf\u001b[49m\u001b[43m,\u001b[49m\n\u001b[0;32m   1079\u001b[0m \u001b[43m            \u001b[49m\u001b[43mconvert\u001b[49m\u001b[38;5;241;43m=\u001b[39;49m\u001b[38;5;28;43mself\u001b[39;49m\u001b[38;5;241;43m.\u001b[39;49m\u001b[43mconvert_dtype\u001b[49m\u001b[43m,\u001b[49m\n\u001b[0;32m   1080\u001b[0m \u001b[43m        \u001b[49m\u001b[43m)\u001b[49m\n\u001b[0;32m   1082\u001b[0m \u001b[38;5;28;01mif\u001b[39;00m \u001b[38;5;28mlen\u001b[39m(mapped) \u001b[38;5;129;01mand\u001b[39;00m \u001b[38;5;28misinstance\u001b[39m(mapped[\u001b[38;5;241m0\u001b[39m], ABCSeries):\n\u001b[0;32m   1083\u001b[0m     \u001b[38;5;66;03m# GH#43986 Need to do list(mapped) in order to get treated as nested\u001b[39;00m\n\u001b[0;32m   1084\u001b[0m     \u001b[38;5;66;03m#  See also GH#25959 regarding EA support\u001b[39;00m\n\u001b[0;32m   1085\u001b[0m     \u001b[38;5;28;01mreturn\u001b[39;00m obj\u001b[38;5;241m.\u001b[39m_constructor_expanddim(\u001b[38;5;28mlist\u001b[39m(mapped), index\u001b[38;5;241m=\u001b[39mobj\u001b[38;5;241m.\u001b[39mindex)\n",
      "File \u001b[1;32mc:\\Users\\Mon Amour\\.conda\\envs\\tryenvir\\lib\\site-packages\\pandas\\_libs\\lib.pyx:2834\u001b[0m, in \u001b[0;36mpandas._libs.lib.map_infer\u001b[1;34m()\u001b[0m\n",
      "Cell \u001b[1;32mIn[156], line 11\u001b[0m, in \u001b[0;36mhex_to_color_name\u001b[1;34m(hex_value)\u001b[0m\n\u001b[0;32m      8\u001b[0m     color_name \u001b[38;5;241m=\u001b[39m webcolors\u001b[38;5;241m.\u001b[39mrgb_to_name(rgb_value)\n\u001b[0;32m      9\u001b[0m \u001b[38;5;28;01mexcept\u001b[39;00m \u001b[38;5;167;01mValueError\u001b[39;00m:\n\u001b[0;32m     10\u001b[0m     \u001b[38;5;66;03m# If the exact color name is not found, find the closest match\u001b[39;00m\n\u001b[1;32m---> 11\u001b[0m     color_name \u001b[38;5;241m=\u001b[39m closest_color_name(\u001b[43mrgb_value\u001b[49m)\n\u001b[0;32m     12\u001b[0m \u001b[38;5;28;01mreturn\u001b[39;00m color_name\n",
      "\u001b[1;31mUnboundLocalError\u001b[0m: local variable 'rgb_value' referenced before assignment"
     ]
    }
   ],
   "source": [
    "import webcolors\n",
    "\n",
    "def hex_to_color_name(hex_value):\n",
    "    try:\n",
    "        # Convert hex to RGB tuple\n",
    "        rgb_value = webcolors.hex_to_rgb(hex_value)\n",
    "        # Get the closest color name\n",
    "        color_name = webcolors.rgb_to_name(rgb_value)\n",
    "    except ValueError:\n",
    "        # If the exact color name is not found, find the closest match\n",
    "        color_name = closest_color_name(rgb_value)\n",
    "    return color_name\n",
    "\n",
    "def closest_color_name(rgb_value):\n",
    "    min_colors = {}\n",
    "    for key, name in webcolors.CSS3_HEX_TO_NAMES.items():\n",
    "        r_c, g_c, b_c = webcolors.hex_to_rgb(key)\n",
    "        rd = (r_c - rgb_value.red) ** 2\n",
    "        gd = (g_c - rgb_value.green) ** 2\n",
    "        bd = (b_c - rgb_value.blue) ** 2\n",
    "        min_colors[(rd + gd + bd)] = name\n",
    "    return min_colors[min(min_colors.keys())]\n",
    "\n",
    "# Create a new column 'color_name' to store the standard color names\n",
    "colors['color_name'] = colors['rgb'].apply(hex_to_color_name)\n",
    "\n",
    "print(colors.head())"
   ]
  },
  {
   "cell_type": "markdown",
   "metadata": {},
   "source": [
    "# Ideas for this data set\n",
    "* Group colors into 10 groups (124 colors out of 135 is too many)\n",
    "* Track popular themes and colors by year\n",
    "    ** datasets= colors, sets, themes\n",
    "* Only 12 pieces had more than version 1 released.  Where those the popular colors and themes?\n",
    "    ** dataset = inventories\n",
    "* How has the size of sets changed over time?\n",
    "* What colors are associated with which themes? \n",
    "* Could you predict which theme a set is from just by the bricks it contains?\n",
    "* What sets have the most-used pieces in them? What sets have the rarest pieces in them?\n",
    "* Have the colors of LEGOs included in sets changed over time?\n",
    "\n"
   ]
  },
  {
   "cell_type": "markdown",
   "metadata": {},
   "source": [
    "# Exploring each dataset"
   ]
  },
  {
   "cell_type": "markdown",
   "metadata": {},
   "source": [
    "## colors dataset"
   ]
  },
  {
   "cell_type": "code",
   "execution_count": null,
   "metadata": {},
   "outputs": [],
   "source": [
    "investigate(colors)"
   ]
  },
  {
   "cell_type": "markdown",
   "metadata": {},
   "source": [
    "### What's with the color names?"
   ]
  },
  {
   "cell_type": "code",
   "execution_count": null,
   "metadata": {},
   "outputs": [],
   "source": [
    "colors['name'].unique()"
   ]
  },
  {
   "cell_type": "markdown",
   "metadata": {},
   "source": [
    "### rgb values"
   ]
  },
  {
   "cell_type": "code",
   "execution_count": null,
   "metadata": {},
   "outputs": [],
   "source": [
    "uniquecolors = colors['rgb'].nunique()\n",
    "nRow, nCol = colors.shape\n",
    "\n",
    "print(f\"There are {uniquecolors} unique colors in the dataframe colors out of {nRow} total colors\")\n",
    "print()\n",
    "print(\"COUNT OF ALL UNIQUE COLORS\")\n",
    "colors['rgb'].value_counts()\n"
   ]
  },
  {
   "cell_type": "markdown",
   "metadata": {},
   "source": [
    "## inventory_sets dataset"
   ]
  },
  {
   "cell_type": "markdown",
   "metadata": {},
   "source": [
    "The dataset inventory_sets has 3 columns: inventory_id, set_num and quauntity.  The inventory_id is the piece/part, the quantity is the number of a specfic piece (inventory_id) included.  A set_num has multiple pieces (inventory_id).  A piece (inventory_id in inventory_sets = id in inventories) in some cases has had different versions (the versions of a piece are in the inventories dataset)\n",
    "\n",
    "The color is available for each inventory_id, and each inventory_id is categorized (windows, doors, bricks)."
   ]
  },
  {
   "cell_type": "code",
   "execution_count": null,
   "metadata": {},
   "outputs": [],
   "source": [
    "investigate(inventory_sets)"
   ]
  },
  {
   "cell_type": "markdown",
   "metadata": {},
   "source": [
    "#### Most sets have only 1 of any kind of piece in the set.  There are 2,846 total peices (count of inventory_id).  2,793 pieces only occur once in a set (see below).\n",
    "\n",
    "To do: filter using Python to find what iventory_ids have quantities over 1.  What set_nums are they part of, what themes are they part of?"
   ]
  },
  {
   "cell_type": "code",
   "execution_count": null,
   "metadata": {},
   "outputs": [],
   "source": [
    "print(\"COUNT OF quantities...quantity and the number with that quantity\")\n",
    "inventory_sets['quantity'].value_counts()"
   ]
  },
  {
   "cell_type": "markdown",
   "metadata": {},
   "source": [
    "quantity= the number of that iventory_id were included.  Each set_num has meany inventory_ids.\n",
    "\n",
    "\n",
    "What does it mean that quantity was \"1\" for most sets?  What does it mean if there was more than 1 of a set? the set \"Basic Building Set\" with set_num = 044-1 had what quantity?  This can't be the number sold, because the highest number is 60.\n",
    "\n",
    "044-1,Basic Building Set,1968,366,225\n",
    "\n",
    "set_num 4520-1 had quantity = 2\n",
    "name = Curved Rails\n",
    "year = 1991\n",
    "theme_id =244\n",
    "num_parts = 8\n",
    "\n",
    "14 sets had theme 244\n",
    "\n",
    "set_num = 4520-1, Curved Rails, 1991, theme = 244, 8 parts\n",
    "set_num = 4531-1, Manual Points, 1991, theme= 244, 6 parts\n",
    "\n",
    "set num 4530-1 had quantity 2 of iventory_id 50, quantity 5 of inventory_id 309, quantity 1 of inventory 6050, etc.\n"
   ]
  },
  {
   "cell_type": "markdown",
   "metadata": {},
   "source": [
    "## inventories dataset"
   ]
  },
  {
   "cell_type": "code",
   "execution_count": null,
   "metadata": {},
   "outputs": [],
   "source": [
    "investigate(inventories)"
   ]
  },
  {
   "cell_type": "markdown",
   "metadata": {},
   "source": [
    "#### Very few sets had more than one version released"
   ]
  },
  {
   "cell_type": "code",
   "execution_count": null,
   "metadata": {},
   "outputs": [],
   "source": [
    "print(\"COUNT OF DIFFERENT VERSIONS\")\n",
    "inventories['version'].value_counts()"
   ]
  },
  {
   "cell_type": "markdown",
   "metadata": {},
   "source": [
    "## themes dataset"
   ]
  },
  {
   "cell_type": "code",
   "execution_count": null,
   "metadata": {},
   "outputs": [],
   "source": [
    "investigate(themes)"
   ]
  },
  {
   "cell_type": "markdown",
   "metadata": {},
   "source": [
    "### 78 total themes"
   ]
  },
  {
   "cell_type": "code",
   "execution_count": null,
   "metadata": {},
   "outputs": [],
   "source": [
    "nthemegroups = themes.parent_id.nunique()\n",
    "print(f\"There are {nthemegroups} total themes.\")"
   ]
  },
  {
   "cell_type": "markdown",
   "metadata": {},
   "source": [
    "## sets dataset"
   ]
  },
  {
   "cell_type": "code",
   "execution_count": null,
   "metadata": {},
   "outputs": [],
   "source": [
    "investigate(sets)"
   ]
  },
  {
   "cell_type": "code",
   "execution_count": null,
   "metadata": {},
   "outputs": [],
   "source": [
    "inventories.set_num.value_counts"
   ]
  },
  {
   "cell_type": "markdown",
   "metadata": {},
   "source": [
    "## sets part_categories"
   ]
  },
  {
   "cell_type": "code",
   "execution_count": null,
   "metadata": {},
   "outputs": [],
   "source": [
    "investigate(part_categories)"
   ]
  }
 ],
 "metadata": {
  "kernelspec": {
   "display_name": "tryenvir",
   "language": "python",
   "name": "python3"
  },
  "language_info": {
   "codemirror_mode": {
    "name": "ipython",
    "version": 3
   },
   "file_extension": ".py",
   "mimetype": "text/x-python",
   "name": "python",
   "nbconvert_exporter": "python",
   "pygments_lexer": "ipython3",
   "version": "3.8.20"
  }
 },
 "nbformat": 4,
 "nbformat_minor": 2
}
