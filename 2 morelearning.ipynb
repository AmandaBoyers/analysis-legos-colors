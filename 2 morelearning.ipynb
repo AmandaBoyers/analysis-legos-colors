{
 "cells": [
  {
   "cell_type": "code",
   "execution_count": null,
   "metadata": {},
   "outputs": [
    {
     "name": "stdout",
     "output_type": "stream",
     "text": [
      "INVENTORY_PARTS DATAFRAME\n",
      "   inventory_id  part_num  color_id  quantity is_spare  \\\n",
      "0             1  48379c01        72         1        f   \n",
      "1           738  48379c01         0         1        f   \n",
      "2          1733  48379c01         1         1        f   \n",
      "3          2304  48379c01         1         1        f   \n",
      "4          3157  48379c01       272         1        f   \n",
      "\n",
      "                                 name  part_cat_id  \n",
      "0  Sports Promo Figure Base with Feet           27  \n",
      "1  Sports Promo Figure Base with Feet           27  \n",
      "2  Sports Promo Figure Base with Feet           27  \n",
      "3  Sports Promo Figure Base with Feet           27  \n",
      "4  Sports Promo Figure Base with Feet           27  \n",
      "\n",
      "INVENTORIES DATAFRAME\n",
      "   dirid  version set_num\n",
      "0      1        1  7922-1\n",
      "1      3        1  3931-1\n",
      "2      4        1  6942-1\n",
      "3     15        1  5158-1\n",
      "4     16        1   903-1\n",
      "Number of unique set_num values: 11670\n",
      "Number of rows in the inventories DataFrame: 11681\n"
     ]
    }
   ],
   "source": [
    "import numpy as np\n",
    "import pandas as pd\n",
    "\n",
    "# Load the datasets from the CSV files\n",
    "colors = pd.read_csv(\"colors.csv\", dtype={'name': 'str', 'rgb': 'str'})\n",
    "inventories = pd.read_csv(\"inventories.csv\")\n",
    "inventory_parts = pd.read_csv(\"inventory_parts.csv\")\n",
    "inventory_sets = pd.read_csv(\"inventory_sets.csv\")\n",
    "part_categories = pd.read_csv(\"part_categories.csv\")\n",
    "parts = pd.read_csv(\"parts.csv\")\n",
    "sets = pd.read_csv(\"sets.csv\")\n",
    "themes = pd.read_csv(\"themes.csv\")\n",
    "\n",
    "# Merge inventory_parts with parts to get the part names\n",
    "inventory_parts = inventory_parts.merge(parts, on='part_num')\n",
    "\n",
    "# Inspect the merged DataFrame\n",
    "print(\"INVENTORY_PARTS DATAFRAME\")\n",
    "print(inventory_parts.head())\n",
    "print()\n",
    "print(\"INVENTORIES DATAFRAME\")\n",
    "print(inventories.head())\n",
    "\n",
    "# Count the number of unique set_num values in the inventories DataFrame\n",
    "unique_set_num_count = inventories['set_num'].nunique()\n",
    "# Display the count of unique set_num values\n",
    "print(f\"Number of unique set_num values: {unique_set_num_count}\")\n",
    "# Count the number of rows in the inventories DataFrame\n",
    "num_rows_inventories = inventories.shape[0]\n",
    "\n",
    "# Display the number of rows in the inventories DataFrame\n",
    "print(f\"Number of rows in the inventories DataFrame: {num_rows_inventories}\")\n"
   ]
  },
  {
   "cell_type": "code",
   "execution_count": 3,
   "metadata": {},
   "outputs": [
    {
     "name": "stdout",
     "output_type": "stream",
     "text": [
      "The biggest set is: Taj Mahal with set number 10189-1 and 5922 parts.\n"
     ]
    },
    {
     "ename": "KeyError",
     "evalue": "'id'",
     "output_type": "error",
     "traceback": [
      "\u001b[1;31m---------------------------------------------------------------------------\u001b[0m",
      "\u001b[1;31mKeyError\u001b[0m                                  Traceback (most recent call last)",
      "File \u001b[1;32mc:\\Users\\Mon Amour\\.conda\\envs\\tryenvir\\lib\\site-packages\\pandas\\core\\indexes\\base.py:3653\u001b[0m, in \u001b[0;36mIndex.get_loc\u001b[1;34m(self, key)\u001b[0m\n\u001b[0;32m   3652\u001b[0m \u001b[38;5;28;01mtry\u001b[39;00m:\n\u001b[1;32m-> 3653\u001b[0m     \u001b[38;5;28;01mreturn\u001b[39;00m \u001b[38;5;28;43mself\u001b[39;49m\u001b[38;5;241;43m.\u001b[39;49m\u001b[43m_engine\u001b[49m\u001b[38;5;241;43m.\u001b[39;49m\u001b[43mget_loc\u001b[49m\u001b[43m(\u001b[49m\u001b[43mcasted_key\u001b[49m\u001b[43m)\u001b[49m\n\u001b[0;32m   3654\u001b[0m \u001b[38;5;28;01mexcept\u001b[39;00m \u001b[38;5;167;01mKeyError\u001b[39;00m \u001b[38;5;28;01mas\u001b[39;00m err:\n",
      "File \u001b[1;32mc:\\Users\\Mon Amour\\.conda\\envs\\tryenvir\\lib\\site-packages\\pandas\\_libs\\index.pyx:147\u001b[0m, in \u001b[0;36mpandas._libs.index.IndexEngine.get_loc\u001b[1;34m()\u001b[0m\n",
      "File \u001b[1;32mc:\\Users\\Mon Amour\\.conda\\envs\\tryenvir\\lib\\site-packages\\pandas\\_libs\\index.pyx:176\u001b[0m, in \u001b[0;36mpandas._libs.index.IndexEngine.get_loc\u001b[1;34m()\u001b[0m\n",
      "File \u001b[1;32mpandas\\_libs\\hashtable_class_helper.pxi:7080\u001b[0m, in \u001b[0;36mpandas._libs.hashtable.PyObjectHashTable.get_item\u001b[1;34m()\u001b[0m\n",
      "File \u001b[1;32mpandas\\_libs\\hashtable_class_helper.pxi:7088\u001b[0m, in \u001b[0;36mpandas._libs.hashtable.PyObjectHashTable.get_item\u001b[1;34m()\u001b[0m\n",
      "\u001b[1;31mKeyError\u001b[0m: 'id'",
      "\nThe above exception was the direct cause of the following exception:\n",
      "\u001b[1;31mKeyError\u001b[0m                                  Traceback (most recent call last)",
      "Cell \u001b[1;32mIn[3], line 6\u001b[0m\n\u001b[0;32m      3\u001b[0m \u001b[38;5;28mprint\u001b[39m(\u001b[38;5;124mf\u001b[39m\u001b[38;5;124m\"\u001b[39m\u001b[38;5;124mThe biggest set is: \u001b[39m\u001b[38;5;132;01m{\u001b[39;00mbiggest_set[\u001b[38;5;124m'\u001b[39m\u001b[38;5;124mname\u001b[39m\u001b[38;5;124m'\u001b[39m]\u001b[38;5;132;01m}\u001b[39;00m\u001b[38;5;124m with set number \u001b[39m\u001b[38;5;132;01m{\u001b[39;00mbiggest_set[\u001b[38;5;124m'\u001b[39m\u001b[38;5;124mset_num\u001b[39m\u001b[38;5;124m'\u001b[39m]\u001b[38;5;132;01m}\u001b[39;00m\u001b[38;5;124m and \u001b[39m\u001b[38;5;132;01m{\u001b[39;00mbiggest_set[\u001b[38;5;124m'\u001b[39m\u001b[38;5;124mnum_parts\u001b[39m\u001b[38;5;124m'\u001b[39m]\u001b[38;5;132;01m}\u001b[39;00m\u001b[38;5;124m parts.\u001b[39m\u001b[38;5;124m\"\u001b[39m)\n\u001b[0;32m      5\u001b[0m \u001b[38;5;66;03m# Get the inventory ID for the biggest set\u001b[39;00m\n\u001b[1;32m----> 6\u001b[0m inventory_id \u001b[38;5;241m=\u001b[39m \u001b[43minventory_sets\u001b[49m\u001b[43m[\u001b[49m\u001b[43minventory_sets\u001b[49m\u001b[43m[\u001b[49m\u001b[38;5;124;43m'\u001b[39;49m\u001b[38;5;124;43mset_num\u001b[39;49m\u001b[38;5;124;43m'\u001b[39;49m\u001b[43m]\u001b[49m\u001b[43m  \u001b[49m\u001b[38;5;241;43m==\u001b[39;49m\u001b[43m \u001b[49m\u001b[43mbiggest_set\u001b[49m\u001b[43m[\u001b[49m\u001b[38;5;124;43m'\u001b[39;49m\u001b[38;5;124;43mset_num\u001b[39;49m\u001b[38;5;124;43m'\u001b[39;49m\u001b[43m]\u001b[49m\u001b[43m]\u001b[49m\u001b[43m[\u001b[49m\u001b[38;5;124;43m'\u001b[39;49m\u001b[38;5;124;43mid\u001b[39;49m\u001b[38;5;124;43m'\u001b[39;49m\u001b[43m]\u001b[49m\u001b[38;5;241m.\u001b[39miloc[\u001b[38;5;241m0\u001b[39m]\n\u001b[0;32m      8\u001b[0m \u001b[38;5;66;03m# Get the parts and colors for the biggest set's inventory\u001b[39;00m\n\u001b[0;32m      9\u001b[0m biggest_set_inventory \u001b[38;5;241m=\u001b[39m inventory_parts[inventory_parts[\u001b[38;5;124m'\u001b[39m\u001b[38;5;124minventory_id\u001b[39m\u001b[38;5;124m'\u001b[39m] \u001b[38;5;241m==\u001b[39m inventory_id]\n",
      "File \u001b[1;32mc:\\Users\\Mon Amour\\.conda\\envs\\tryenvir\\lib\\site-packages\\pandas\\core\\frame.py:3761\u001b[0m, in \u001b[0;36mDataFrame.__getitem__\u001b[1;34m(self, key)\u001b[0m\n\u001b[0;32m   3759\u001b[0m \u001b[38;5;28;01mif\u001b[39;00m \u001b[38;5;28mself\u001b[39m\u001b[38;5;241m.\u001b[39mcolumns\u001b[38;5;241m.\u001b[39mnlevels \u001b[38;5;241m>\u001b[39m \u001b[38;5;241m1\u001b[39m:\n\u001b[0;32m   3760\u001b[0m     \u001b[38;5;28;01mreturn\u001b[39;00m \u001b[38;5;28mself\u001b[39m\u001b[38;5;241m.\u001b[39m_getitem_multilevel(key)\n\u001b[1;32m-> 3761\u001b[0m indexer \u001b[38;5;241m=\u001b[39m \u001b[38;5;28;43mself\u001b[39;49m\u001b[38;5;241;43m.\u001b[39;49m\u001b[43mcolumns\u001b[49m\u001b[38;5;241;43m.\u001b[39;49m\u001b[43mget_loc\u001b[49m\u001b[43m(\u001b[49m\u001b[43mkey\u001b[49m\u001b[43m)\u001b[49m\n\u001b[0;32m   3762\u001b[0m \u001b[38;5;28;01mif\u001b[39;00m is_integer(indexer):\n\u001b[0;32m   3763\u001b[0m     indexer \u001b[38;5;241m=\u001b[39m [indexer]\n",
      "File \u001b[1;32mc:\\Users\\Mon Amour\\.conda\\envs\\tryenvir\\lib\\site-packages\\pandas\\core\\indexes\\base.py:3655\u001b[0m, in \u001b[0;36mIndex.get_loc\u001b[1;34m(self, key)\u001b[0m\n\u001b[0;32m   3653\u001b[0m     \u001b[38;5;28;01mreturn\u001b[39;00m \u001b[38;5;28mself\u001b[39m\u001b[38;5;241m.\u001b[39m_engine\u001b[38;5;241m.\u001b[39mget_loc(casted_key)\n\u001b[0;32m   3654\u001b[0m \u001b[38;5;28;01mexcept\u001b[39;00m \u001b[38;5;167;01mKeyError\u001b[39;00m \u001b[38;5;28;01mas\u001b[39;00m err:\n\u001b[1;32m-> 3655\u001b[0m     \u001b[38;5;28;01mraise\u001b[39;00m \u001b[38;5;167;01mKeyError\u001b[39;00m(key) \u001b[38;5;28;01mfrom\u001b[39;00m \u001b[38;5;21;01merr\u001b[39;00m\n\u001b[0;32m   3656\u001b[0m \u001b[38;5;28;01mexcept\u001b[39;00m \u001b[38;5;167;01mTypeError\u001b[39;00m:\n\u001b[0;32m   3657\u001b[0m     \u001b[38;5;66;03m# If we have a listlike key, _check_indexing_error will raise\u001b[39;00m\n\u001b[0;32m   3658\u001b[0m     \u001b[38;5;66;03m#  InvalidIndexError. Otherwise we fall through and re-raise\u001b[39;00m\n\u001b[0;32m   3659\u001b[0m     \u001b[38;5;66;03m#  the TypeError.\u001b[39;00m\n\u001b[0;32m   3660\u001b[0m     \u001b[38;5;28mself\u001b[39m\u001b[38;5;241m.\u001b[39m_check_indexing_error(key)\n",
      "\u001b[1;31mKeyError\u001b[0m: 'id'"
     ]
    }
   ],
   "source": [
    "# Find the biggest set by the number of parts\n",
    "biggest_set = sets.sort_values('num_parts', ascending=False).iloc[0]\n",
    "print(f\"The biggest set is: {biggest_set['name']} with set number {biggest_set['set_num']} and {biggest_set['num_parts']} parts.\")\n",
    "\n",
    "# Get the inventory ID for the biggest set\n",
    "inventory_id = inventory_sets[inventory_sets['set_num']  == biggest_set['set_num']]['id'].iloc[0]\n",
    "\n",
    "# Get the parts and colors for the biggest set's inventory\n",
    "biggest_set_inventory = inventory_parts[inventory_parts['inventory_id'] == inventory_id]\n",
    "\n",
    "# Create a dataframe with part_num and color_id as indices and quantities as values\n",
    "biggest_set_parts_dict = biggest_set_inventory.groupby(['part_num', 'color_id'])['quantity'].sum().to_dict()"
   ]
  },
  {
   "cell_type": "code",
   "execution_count": 9,
   "metadata": {},
   "outputs": [
    {
     "data": {
      "text/plain": [
       "set_num        10189-1\n",
       "name         Taj Mahal\n",
       "year              2008\n",
       "theme_id           276\n",
       "num_parts         5922\n",
       "Name: 170, dtype: object"
      ]
     },
     "execution_count": 9,
     "metadata": {},
     "output_type": "execute_result"
    }
   ],
   "source": [
    "biggest_set.head()"
   ]
  },
  {
   "cell_type": "code",
   "execution_count": null,
   "metadata": {},
   "outputs": [],
   "source": [
    "# Get the inventory ID for the biggest set\n",
    "inventory_id = inventories[inventories['set_num'] == biggest_set['set_num']]['id'].iloc[0]\n",
    "\n",
    "# Get the parts and colors for the biggest set's inventory\n",
    "biggest_set_inventory = inventory_parts[inventory_parts['inventory_id'] == inventory_id]\n",
    "\n",
    "# Create a dataframe with part_num and color_id as indices and quantities as values\n",
    "biggest_set_parts_dict = biggest_set_inventory.groupby(['part_num', 'color_id'])['quantity'].sum().to_dict()"
   ]
  }
 ],
 "metadata": {
  "kernelspec": {
   "display_name": "tryenvir",
   "language": "python",
   "name": "python3"
  },
  "language_info": {
   "codemirror_mode": {
    "name": "ipython",
    "version": 3
   },
   "file_extension": ".py",
   "mimetype": "text/x-python",
   "name": "python",
   "nbconvert_exporter": "python",
   "pygments_lexer": "ipython3",
   "version": "3.8.20"
  }
 },
 "nbformat": 4,
 "nbformat_minor": 2
}
