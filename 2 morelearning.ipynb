{
 "cells": [
  {
   "cell_type": "code",
   "execution_count": 31,
   "metadata": {},
   "outputs": [
    {
     "name": "stdout",
     "output_type": "stream",
     "text": [
      "INVENTORY_PARTS DATAFRAME\n",
      "   inventory_id  part_num  color_id  quantity is_spare  \\\n",
      "0             1  48379c01        72         1        f   \n",
      "1             1     48395         7         1        f   \n",
      "2             1  mcsport6        25         1        f   \n",
      "3             1    paddle         0         1        f   \n",
      "4           738  48379c01         0         1        f   \n",
      "\n",
      "                                                name  part_cat_id   id  \\\n",
      "0                 Sports Promo Figure Base with Feet           27    1   \n",
      "1  Sports Promo Snowboard from McDonald's Sports ...           27    1   \n",
      "2  Sports Promo Figure Head Torso Assembly McDona...           13    1   \n",
      "3    Sports Promo Paddle from McDonald's Sports Sets           27    1   \n",
      "4                 Sports Promo Figure Base with Feet           27  738   \n",
      "\n",
      "   version set_num  \n",
      "0        1  7922-1  \n",
      "1        1  7922-1  \n",
      "2        1  7922-1  \n",
      "3        1  7922-1  \n",
      "4        1  7920-1  \n",
      "\n",
      "INVENTORY_PARTS COLUMNS\n",
      "Index(['inventory_id', 'part_num', 'color_id', 'quantity', 'is_spare', 'name',\n",
      "       'part_cat_id', 'id', 'version', 'set_num'],\n",
      "      dtype='object')\n"
     ]
    }
   ],
   "source": [
    "import numpy as np\n",
    "import pandas as pd\n",
    "\n",
    "# Load the datasets from the CSV files\n",
    "colors = pd.read_csv(\"colors.csv\", dtype={'name': 'str', 'rgb': 'str'})\n",
    "inventories = pd.read_csv(\"inventories.csv\")\n",
    "inventory_parts = pd.read_csv(\"inventory_parts.csv\")\n",
    "inventory_sets = pd.read_csv(\"inventory_sets.csv\")\n",
    "part_categories = pd.read_csv(\"part_categories.csv\")\n",
    "parts = pd.read_csv(\"parts.csv\")\n",
    "sets = pd.read_csv(\"sets.csv\")\n",
    "themes = pd.read_csv(\"themes.csv\")\n",
    "\n",
    "# Merge inventory_parts with parts to get the part names\n",
    "inventory_parts = inventory_parts.merge(parts, on='part_num')\n",
    "\n",
    "# Merge inventory_parts with inventories on inventory_id = id\n",
    "inventory_parts = inventory_parts.merge(inventories, left_on='inventory_id', right_on='id')\n",
    "\n",
    "# Inspect the merged DataFrame\n",
    "print(\"INVENTORY_PARTS DATAFRAME\")\n",
    "print(inventory_parts.head())\n",
    "print()\n",
    "print(\"INVENTORY_PARTS COLUMNS\")\n",
    "print(inventory_parts.columns)"
   ]
  },
  {
   "cell_type": "markdown",
   "metadata": {},
   "source": [
    "## Creating the investigate function"
   ]
  },
  {
   "cell_type": "code",
   "execution_count": null,
   "metadata": {},
   "outputs": [],
   "source": [
    "def investigate(db):\n",
    "    \"\"\"explores the data\"\"\"\n",
    "    \n",
    "    print(f\"Exploring the data in the dataframe\")\n",
    "    print(db.index)\n",
    "    print(\"\")\n",
    "    print(\"COLUMN NAMES\")\n",
    "    print(db.columns)\n",
    "    print()\n",
    "    nRow, nCol = db.shape\n",
    "    print(f'There are {nRow} rows and {nCol} columns')\n",
    "    print()\n",
    "    print(\"DATA TYPES\")\n",
    "    print(db.dtypes)\n",
    "    print()\n",
    "    print(\"NUMBER OF UNIQUE VALUES IN EACH COLUMN\")\n",
    "    print(db.nunique())\n",
    "    print()\n",
    "    print(\"PREVIEWING THE DATASET\")\n",
    "    print(db.head())\n",
    "    print()\n",
    "    print(db.info())\n",
    "    print()\n",
    "    print(\"NUMBER OF NON-NULL VALUES IN EACH COLUMN\")\n",
    "    print(db.count())\n"
   ]
  },
  {
   "cell_type": "code",
   "execution_count": 59,
   "metadata": {},
   "outputs": [
    {
     "name": "stdout",
     "output_type": "stream",
     "text": [
      "The biggest set is: Taj Mahal with set number 10189-1 and 5922 parts.\n"
     ]
    }
   ],
   "source": [
    "# Find the biggest set by the number of parts\n",
    "biggest_set = sets.sort_values('num_parts', ascending=False).iloc[0]\n",
    "print(f\"The biggest set is: {biggest_set['name']} with set number {biggest_set['set_num']} and {biggest_set['num_parts']} parts.\")"
   ]
  },
  {
   "cell_type": "code",
   "execution_count": 58,
   "metadata": {},
   "outputs": [
    {
     "name": "stdout",
     "output_type": "stream",
     "text": [
      "Part Number: 1234, Color ID: 1, Quantity: 10\n",
      "Part Number: 5678, Color ID: 2, Quantity: 20\n",
      "Part Number: 91011, Color ID: 3, Quantity: 30\n"
     ]
    }
   ],
   "source": [
    "# Sample DataFrame\n",
    "data = {\n",
    "    'part_num': ['1234', '5678', '91011'],\n",
    "    'color_id': [1, 2, 3],\n",
    "    'quantity': [10, 20, 30]\n",
    "}\n",
    "df = pd.DataFrame(data)\n",
    "\n",
    "# Iterate over the DataFrame rows\n",
    "for _, row in df.iterrows():\n",
    "    print(f\"Part Number: {row['part_num']}, Color ID: {row['color_id']}, Quantity: {row['quantity']}\")"
   ]
  },
  {
   "cell_type": "code",
   "execution_count": 55,
   "metadata": {},
   "outputs": [
    {
     "name": "stdout",
     "output_type": "stream",
     "text": [
      "{('2339', 15): 8, ('2357', 15): 12, ('2412b', 71): 60, ('2419', 15): 12, ('2420', 15): 72, ('2420', 19): 36, ('2431', 15): 64, ('2431', 70): 16, ('2436', 15): 8, ('2450', 15): 32, ('2453a', 15): 8, ('2454a', 71): 4, ('2456', 71): 13, ('2577', 0): 4, ('2730', 15): 28, ('2730', 71): 2, ('2780', 0): 53, ('2877', 15): 240, ('3001', 1): 12, ('3001', 15): 8, ('3002', 4): 16, ('3002', 15): 8, ('3003', 14): 69, ('3003', 15): 8, ('30033', 15): 1, ('3004', 15): 69, ('3004', 19): 102, ('30044', 15): 48, ('3005', 15): 216, ('3006', 15): 5, ('3008', 1): 18, ('3009', 15): 22, ('3010', 15): 61, ('3020', 15): 33, ('3020', 70): 4, ('3021', 14): 4, ('3021', 15): 32, ('3021', 19): 16, ('3022', 15): 8, ('3022', 19): 44, ('3023', 4): 37, ('3023', 15): 174, ('3023', 19): 54, ('3023', 73): 24, ('3023', 320): 8, ('3024', 14): 76, ('3024', 15): 236, ('3024', 19): 44, ('3024', 47): 388, ('3024', 73): 60, ('3028', 70): 2, ('3030', 15): 4, ('3030', 70): 22, ('3031', 15): 21, ('3032', 15): 9, ('3033', 15): 24, ('3034', 15): 18, ('3035', 15): 1, ('30363', 72): 4, ('30367b', 14): 9, ('30374', 14): 9, ('30414', 14): 4, ('30503', 70): 4, ('30505', 0): 8, ('3062b', 15): 276, ('3063b', 15): 36, ('3068b', 15): 70, ('3069b', 15): 54, ('3069b', 19): 48, ('3069b', 70): 36, ('3069b', 73): 40, ('3070b', 15): 36, ('3070b', 70): 6, ('3070b', 71): 42, ('3070b', 73): 10, ('32018', 72): 4, ('32028', 15): 46, ('32028', 19): 100, ('32324', 0): 4, ('3245b', 15): 39, ('32531', 71): 8, ('32532', 15): 1, ('32555', 14): 4, ('3307', 15): 24, ('3460', 0): 24, ('3460', 15): 75, ('3622', 15): 16, ('3623', 14): 4, ('3623', 15): 70, ('3623', 19): 16, ('3626b', 14): 6, ('3626b', 15): 16, ('3659', 15): 2, ('3660', 1): 22, ('3660', 15): 76, ('3665', 15): 8, ('3666', 15): 83, ('3666', 19): 20, ('3666', 320): 24, ('3680', 15): 208, ('3700', 1): 8, ('3701', 72): 8, ('3702', 4): 4, ('3707', 0): 4, ('3710', 15): 92, ('3710', 19): 42, ('3710', 73): 12, ('3737', 0): 8, ('3794a', 15): 80, ('3794a', 19): 24, ('3794a', 70): 24, ('3795', 4): 8, ('3795', 15): 40, ('3795', 19): 1, ('3832', 15): 30, ('3857', 1): 6, ('3941', 4): 8, ('3958', 4): 1, ('3960', 15): 1, ('4032a', 19): 19, ('4070', 15): 156, ('4081b', 19): 104, ('4085c', 15): 40, ('4162', 71): 16, ('43337', 15): 36, ('43898', 15): 9, ('44375a', 15): 17, ('44567a', 71): 16, ('44568', 71): 8, ('44728', 4): 8, ('4477', 15): 22, ('4490', 15): 78, ('4510', 19): 27, ('4589', 14): 13, ('4589', 15): 16, ('4740', 15): 20, ('47457', 1): 8, ('47905', 19): 64, ('4864b', 15): 8, ('4865a', 15): 8, ('52107', 0): 24, ('54200', 47): 20, ('59443', 4): 8, ('6019', 14): 8, ('60208', 15): 4, ('60471', 15): 32, ('60474', 15): 16, ('60479', 15): 12, ('6111', 15): 7, ('6112', 71): 4, ('6141', 14): 17, ('6141', 19): 176, ('6178', 15): 4, ('6180', 15): 8, ('6182', 19): 8, ('6231', 15): 108, ('6232', 19): 28, ('6259', 15): 32, ('6558', 1): 16, ('6587', 72): 4, ('6636', 15): 10, ('6636', 70): 4, ('73983', 15): 36, ('73983', 19): 12}\n"
     ]
    }
   ],
   "source": [
    "# Get the inventory ID for the biggest set.  \n",
    "# This filters the inventories DataFrame to only \n",
    "# the rows where the set_num is equal to the biggest set's set_num, \n",
    "# then gets the ID of the first row.\n",
    "inventory_id = inventories[inventories['set_num'] == biggest_set['set_num']]['id'].iloc[0]\n",
    "\n",
    "\n",
    "# Get the parts and colors for the biggest set's inventory\n",
    "biggest_set_inventory = inventory_parts[inventory_parts['inventory_id'] == inventory_id]\n",
    "\n",
    "# Create a dataframe with part_num and color_id as indices and quantities as values\n",
    "biggest_set_parts_dict = biggest_set_inventory.groupby(['part_num', 'color_id'])['quantity'].sum().to_dict()\n",
    "\n",
    "print(biggest_set_parts_dict)"
   ]
  },
  {
   "cell_type": "code",
   "execution_count": 56,
   "metadata": {},
   "outputs": [
    {
     "name": "stdout",
     "output_type": "stream",
     "text": [
      "\n",
      "Sets that can be built using parts and colors from the biggest set:\n",
      "         set_num                                               name\n",
      "2         0011-3                         Castle 2 for 1 Bonus Offer\n",
      "12          00-6                                      Special Offer\n",
      "13          00-7                  Weetabix Promotional Lego Village\n",
      "85       10065-1                                 White Plates 1 x n\n",
      "170      10189-1                                          Taj Mahal\n",
      "...          ...                                                ...\n",
      "11661       VP-7                   Fire Value Pack (6554 6407 6564)\n",
      "11662       VP-8                 Star Wars Co-Pack of 7130 and 7150\n",
      "11665     W098-1                            Watch Set, Classic Blue\n",
      "11666  W991526-1  Homeschool Introduction to Simple and Motorize...\n",
      "11672    wwgp1-1                Wild West Limited Edition Gift Pack\n",
      "\n",
      "[967 rows x 2 columns]\n"
     ]
    }
   ],
   "source": [
    "# Define a function to check if a set can be built using parts from the biggest set\n",
    "def can_build(set_inventory_id, biggest_set_parts_dict):\n",
    "    # Get the required parts for the set we're checking\n",
    "    required_parts = inventory_parts[inventory_parts['inventory_id'] == set_inventory_id]\n",
    "    \n",
    "    # Check if each required part with its color is available in sufficient quantity\n",
    "    for _, part in required_parts.iterrows():\n",
    "        if (part['part_num'], part['color_id']) not in biggest_set_parts_dict or \\\n",
    "           biggest_set_parts_dict[(part['part_num'], part['color_id'])] < part['quantity']:\n",
    "            return False\n",
    "    return True\n",
    "\n",
    "# Check each inventory to see if it can be built from the biggest set's parts\n",
    "buildable_sets = []\n",
    "for inventory_id in inventories['id'].unique():\n",
    "    if can_build(inventory_id, biggest_set_parts_dict):\n",
    "        set_num = inventories[inventories['id'] == inventory_id]['set_num'].iloc[0]\n",
    "        buildable_sets.append(set_num)\n",
    "\n",
    "# Get the details of buildable sets\n",
    "buildable_set_details = sets[sets['set_num'].isin(buildable_sets)]\n",
    "\n",
    "print(\"\\nSets that can be built using parts and colors from the biggest set:\")\n",
    "print(buildable_set_details[['set_num', 'name']])"
   ]
  }
 ],
 "metadata": {
  "kernelspec": {
   "display_name": "tryenvir",
   "language": "python",
   "name": "python3"
  },
  "language_info": {
   "codemirror_mode": {
    "name": "ipython",
    "version": 3
   },
   "file_extension": ".py",
   "mimetype": "text/x-python",
   "name": "python",
   "nbconvert_exporter": "python",
   "pygments_lexer": "ipython3",
   "version": "3.8.20"
  }
 },
 "nbformat": 4,
 "nbformat_minor": 2
}
