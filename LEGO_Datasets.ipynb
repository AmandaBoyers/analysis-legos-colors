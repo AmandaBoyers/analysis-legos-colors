{
 "cells": [
  {
   "cell_type": "code",
   "execution_count": 22,
   "metadata": {},
   "outputs": [],
   "source": [
    "from mpl_toolkits.mplot3d import Axes3D\n",
    "from sklearn.preprocessing import StandardScaler\n",
    "import matplotlib.pyplot as plt # plotting\n",
    "import numpy as np # linear algebra\n",
    "import os # accessing directory structure\n",
    "import pandas as pd # data processing, CSV file I/O (e.g. pd.read_csv)"
   ]
  },
  {
   "cell_type": "code",
   "execution_count": 23,
   "metadata": {},
   "outputs": [
    {
     "name": "stdout",
     "output_type": "stream",
     "text": [
      "['.conda', 'colors.csv', 'demo.py', 'downloads_schema.png', 'inventories.csv', 'inventory_parts.csv', 'inventory_sets.csv', 'LEGO_Datasets.ipynb', 'main.py', 'morelearning.ipynb', 'parts.csv', 'part_categories.csv', 'sets.csv', 'themes.csv']\n"
     ]
    }
   ],
   "source": [
    "print(os.listdir())"
   ]
  },
  {
   "cell_type": "markdown",
   "metadata": {},
   "source": [
    "## Creating the Panda dataframes"
   ]
  },
  {
   "cell_type": "code",
   "execution_count": 24,
   "metadata": {},
   "outputs": [],
   "source": [
    "colors = pd.read_csv(\"colors.csv\")\n",
    "inventories = pd.read_csv(\"inventories.csv\")\n",
    "inventory_parts = pd.read_csv(\"inventory_parts.csv\")\n",
    "inventory_sets = pd.read_csv(\"inventory_sets.csv\")\n",
    "part_categories = pd.read_csv(\"part_categories.csv\")\n",
    "parts = pd.read_csv(\"parts.csv\")\n",
    "sets = pd.read_csv(\"sets.csv\")\n",
    "themes = pd.read_csv(\"themes.csv\")"
   ]
  },
  {
   "cell_type": "markdown",
   "metadata": {},
   "source": [
    "## Creating the investigate function"
   ]
  },
  {
   "cell_type": "code",
   "execution_count": 25,
   "metadata": {},
   "outputs": [],
   "source": [
    "def investigate(db):\n",
    "    \"\"\"explores the data\"\"\"\n",
    "\n",
    "    db.name = \"d\"\n",
    "    print(f\"Exploring the data in the dataframe\")\n",
    "    print(db.index)\n",
    "    print(\"\")\n",
    "    print(\"COLUMN NAMES\")\n",
    "    print(db.columns)\n",
    "    print()\n",
    "    nRow, nCol = db.shape\n",
    "    print(f'There are {nRow} rows and {nCol} columns')\n",
    "    print()\n",
    "    print(\"DATA TYPES\")\n",
    "    print(db.dtypes)\n",
    "    print()\n",
    "    print(\"NUMBER OF UNIQUE VALUES IN EACH COLUMN\")\n",
    "    print(db.nunique())\n",
    "    print()\n",
    "    print(\"PREVIEWING THE DATASET\")\n",
    "    print(db.head())\n",
    "    print()\n",
    "    print(db.info())\n",
    "    print()\n",
    "    print(\"NUMBER OF NON-NULL VALUES IN EACH COLUMN\")\n",
    "    print(db.count())\n"
   ]
  },
  {
   "cell_type": "markdown",
   "metadata": {},
   "source": [
    "## How the data is organized\n",
    "\n",
    "The dataset inventory_sets has 3 columns: inventory_id, set_num and quantity.  The inventory_id is the piece/part, the quantity is the number of a specfic piece (inventory_id) included.  The majority of sets have a single piece- it is rare to have multple of the same piece in a set.  A set_num has multiple pieces (inventory_id).  A piece (inventory_id in inventory_sets = id in inventories) in some cases has had different versions (the versions of a piece are in the inventories dataset)\n",
    "\n",
    "The color is available for each inventory_id, and each inventory_id is categorized (windows, doors, bricks).\n",
    "\n",
    "Tracking how number of parts have changed = num_parts in sets- relatively simple.  Investiating how those parts have changed- changes in inventory_id colors, categories- more complicated. Changes in theme or parent_theme would be a simpler investigation given you do not have to drill down as much."
   ]
  },
  {
   "cell_type": "markdown",
   "metadata": {},
   "source": [
    "# Ideas for this data set\n",
    "* Group colors into 10 groups (124 colors out of 135 is too many)\n",
    "* Track popular themes and colors by year\n",
    "    ** datasets= colors, sets, themes\n",
    "* Only 12 pieces had more than version 1 released.  Where those the popular colors and themes?\n",
    "    ** dataset = inventories\n",
    "* How has the size of sets changed over time?\n",
    "* What colors are associated with which themes? \n",
    "* Could you predict which theme a set is from just by the bricks it contains?\n",
    "* What sets have the most-used pieces in them? What sets have the rarest pieces in them?\n",
    "* Have the colors of LEGOs included in sets changed over time?\n",
    "\n"
   ]
  },
  {
   "cell_type": "markdown",
   "metadata": {},
   "source": [
    "# Exploring each dataset"
   ]
  },
  {
   "cell_type": "markdown",
   "metadata": {},
   "source": [
    "## colors dataset"
   ]
  },
  {
   "cell_type": "code",
   "execution_count": 26,
   "metadata": {},
   "outputs": [
    {
     "name": "stdout",
     "output_type": "stream",
     "text": [
      "Exploring the data in the dataframe\n",
      "RangeIndex(start=0, stop=135, step=1)\n",
      "\n",
      "COLUMN NAMES\n",
      "Index(['id', 'name', 'rgb', 'is_trans'], dtype='object')\n",
      "\n",
      "There are 135 rows and 4 columns\n",
      "\n",
      "DATA TYPES\n",
      "id           int64\n",
      "name        object\n",
      "rgb         object\n",
      "is_trans    object\n",
      "dtype: object\n",
      "\n",
      "NUMBER OF UNIQUE VALUES IN EACH COLUMN\n",
      "id          135\n",
      "name          1\n",
      "rgb         124\n",
      "is_trans      2\n",
      "dtype: int64\n",
      "\n",
      "PREVIEWING THE DATASET\n",
      "   id name     rgb is_trans\n",
      "0  -1    d  0033B2        f\n",
      "1   0    d  05131D        f\n",
      "2   1    d  0055BF        f\n",
      "3   2    d  237841        f\n",
      "4   3    d  008F9B        f\n",
      "\n",
      "<class 'pandas.core.frame.DataFrame'>\n",
      "RangeIndex: 135 entries, 0 to 134\n",
      "Data columns (total 4 columns):\n",
      " #   Column    Non-Null Count  Dtype \n",
      "---  ------    --------------  ----- \n",
      " 0   id        135 non-null    int64 \n",
      " 1   name      135 non-null    object\n",
      " 2   rgb       135 non-null    object\n",
      " 3   is_trans  135 non-null    object\n",
      "dtypes: int64(1), object(3)\n",
      "memory usage: 4.3+ KB\n",
      "None\n",
      "\n",
      "NUMBER OF NON-NULL VALUES IN EACH COLUMN\n",
      "id          135\n",
      "name        135\n",
      "rgb         135\n",
      "is_trans    135\n",
      "dtype: int64\n"
     ]
    }
   ],
   "source": [
    "investigate(colors)"
   ]
  },
  {
   "cell_type": "markdown",
   "metadata": {},
   "source": [
    "### What's with the color names?"
   ]
  },
  {
   "cell_type": "code",
   "execution_count": 27,
   "metadata": {},
   "outputs": [
    {
     "data": {
      "text/plain": [
       "array(['d'], dtype=object)"
      ]
     },
     "execution_count": 27,
     "metadata": {},
     "output_type": "execute_result"
    }
   ],
   "source": [
    "colors['name'].unique()"
   ]
  },
  {
   "cell_type": "markdown",
   "metadata": {},
   "source": [
    "### rgb values"
   ]
  },
  {
   "cell_type": "code",
   "execution_count": 28,
   "metadata": {},
   "outputs": [
    {
     "name": "stdout",
     "output_type": "stream",
     "text": [
      "There are 124 unique colors in the dataframe colors out of 135 total colors\n",
      "\n",
      "COUNT OF ALL UNIQUE COLORS\n"
     ]
    },
    {
     "data": {
      "text/plain": [
       "rgb\n",
       "FFFFFF    3\n",
       "000000    3\n",
       "D9E4A7    2\n",
       "635F52    2\n",
       "A5A5CB    2\n",
       "         ..\n",
       "FCFCFC    1\n",
       "F5CD2F    1\n",
       "C1DFF0    1\n",
       "F8F184    1\n",
       "8E5597    1\n",
       "Name: count, Length: 124, dtype: int64"
      ]
     },
     "execution_count": 28,
     "metadata": {},
     "output_type": "execute_result"
    }
   ],
   "source": [
    "uniquecolors = colors['rgb'].nunique()\n",
    "nRow, nCol = colors.shape\n",
    "\n",
    "print(f\"There are {uniquecolors} unique colors in the dataframe colors out of {nRow} total colors\")\n",
    "print()\n",
    "print(\"COUNT OF ALL UNIQUE COLORS\")\n",
    "colors['rgb'].value_counts()\n"
   ]
  },
  {
   "cell_type": "markdown",
   "metadata": {},
   "source": [
    "## inventory_sets dataset"
   ]
  },
  {
   "cell_type": "markdown",
   "metadata": {},
   "source": [
    "The dataset inventory_sets has 3 columns: inventory_id, set_num and quauntity.  The inventory_id is the piece/part, the quantity is the number of a specfic piece (inventory_id) included.  A set_num has multiple pieces (inventory_id).  A piece (inventory_id in inventory_sets = id in inventories) in some cases has had different versions (the versions of a piece are in the inventories dataset)\n",
    "\n",
    "The color is available for each inventory_id, and each inventory_id is categorized (windows, doors, bricks)."
   ]
  },
  {
   "cell_type": "code",
   "execution_count": 29,
   "metadata": {},
   "outputs": [
    {
     "name": "stdout",
     "output_type": "stream",
     "text": [
      "Exploring the data in the dataframe\n",
      "RangeIndex(start=0, stop=2846, step=1)\n",
      "\n",
      "COLUMN NAMES\n",
      "Index(['inventory_id', 'set_num', 'quantity'], dtype='object')\n",
      "\n",
      "There are 2846 rows and 3 columns\n",
      "\n",
      "DATA TYPES\n",
      "inventory_id     int64\n",
      "set_num         object\n",
      "quantity         int64\n",
      "dtype: object\n",
      "\n",
      "NUMBER OF UNIQUE VALUES IN EACH COLUMN\n",
      "inventory_id     589\n",
      "set_num         2306\n",
      "quantity           7\n",
      "dtype: int64\n",
      "\n",
      "PREVIEWING THE DATASET\n",
      "   inventory_id  set_num  quantity\n",
      "0            35  75911-1         1\n",
      "1            35  75912-1         1\n",
      "2            39  75048-1         1\n",
      "3            39  75053-1         1\n",
      "4            50   4515-1         1\n",
      "\n",
      "<class 'pandas.core.frame.DataFrame'>\n",
      "RangeIndex: 2846 entries, 0 to 2845\n",
      "Data columns (total 3 columns):\n",
      " #   Column        Non-Null Count  Dtype \n",
      "---  ------        --------------  ----- \n",
      " 0   inventory_id  2846 non-null   int64 \n",
      " 1   set_num       2846 non-null   object\n",
      " 2   quantity      2846 non-null   int64 \n",
      "dtypes: int64(2), object(1)\n",
      "memory usage: 66.8+ KB\n",
      "None\n",
      "\n",
      "NUMBER OF NON-NULL VALUES IN EACH COLUMN\n",
      "inventory_id    2846\n",
      "set_num         2846\n",
      "quantity        2846\n",
      "dtype: int64\n"
     ]
    }
   ],
   "source": [
    "investigate(inventory_sets)"
   ]
  },
  {
   "cell_type": "markdown",
   "metadata": {},
   "source": [
    "#### Most sets have only 1 of any kind of piece in the set.  There are 2,846 total peices (count of inventory_id).  2,793 pieces only occur once in a set (see below).\n",
    "\n",
    "To do: filter using Python to find what iventory_ids have quantities over 1.  What set_nums are they part of, what themes are they part of?"
   ]
  },
  {
   "cell_type": "code",
   "execution_count": 37,
   "metadata": {},
   "outputs": [
    {
     "name": "stdout",
     "output_type": "stream",
     "text": [
      "COUNT OF quantities...quantity and the number with that quantity\n"
     ]
    },
    {
     "data": {
      "text/plain": [
       "quantity\n",
       "1     2793\n",
       "2       28\n",
       "60      17\n",
       "3        5\n",
       "7        1\n",
       "5        1\n",
       "20       1\n",
       "Name: count, dtype: int64"
      ]
     },
     "execution_count": 37,
     "metadata": {},
     "output_type": "execute_result"
    }
   ],
   "source": [
    "print(\"COUNT OF quantities...quantity and the number with that quantity\")\n",
    "inventory_sets['quantity'].value_counts()"
   ]
  },
  {
   "cell_type": "markdown",
   "metadata": {},
   "source": [
    "quantity= the number of that iventory_id were included.  Each set_num has meany inventory_ids.\n",
    "\n",
    "\n",
    "What does it mean that quantity was \"1\" for most sets?  What does it mean if there was more than 1 of a set? the set \"Basic Building Set\" with set_num = 044-1 had what quantity?  This can't be the number sold, because the highest number is 60.\n",
    "\n",
    "044-1,Basic Building Set,1968,366,225\n",
    "\n",
    "set_num 4520-1 had quantity = 2\n",
    "name = Curved Rails\n",
    "year = 1991\n",
    "theme_id =244\n",
    "num_parts = 8\n",
    "\n",
    "14 sets had theme 244\n",
    "\n",
    "set_num = 4520-1, Curved Rails, 1991, theme = 244, 8 parts\n",
    "set_num = 4531-1, Manual Points, 1991, theme= 244, 6 parts\n",
    "\n",
    "set num 4530-1 had quantity 2 of iventory_id 50, quantity 5 of inventory_id 309, quantity 1 of inventory 6050, etc.\n"
   ]
  },
  {
   "cell_type": "markdown",
   "metadata": {},
   "source": [
    "## inventories dataset"
   ]
  },
  {
   "cell_type": "code",
   "execution_count": 31,
   "metadata": {},
   "outputs": [
    {
     "name": "stdout",
     "output_type": "stream",
     "text": [
      "Exploring the data in the dataframe\n",
      "RangeIndex(start=0, stop=11681, step=1)\n",
      "\n",
      "COLUMN NAMES\n",
      "Index(['id', 'version', 'set_num'], dtype='object')\n",
      "\n",
      "There are 11681 rows and 3 columns\n",
      "\n",
      "DATA TYPES\n",
      "id          int64\n",
      "version     int64\n",
      "set_num    object\n",
      "dtype: object\n",
      "\n",
      "NUMBER OF UNIQUE VALUES IN EACH COLUMN\n",
      "id         11681\n",
      "version        5\n",
      "set_num    11670\n",
      "dtype: int64\n",
      "\n",
      "PREVIEWING THE DATASET\n",
      "   id  version set_num\n",
      "0   1        1  7922-1\n",
      "1   3        1  3931-1\n",
      "2   4        1  6942-1\n",
      "3  15        1  5158-1\n",
      "4  16        1   903-1\n",
      "\n",
      "<class 'pandas.core.frame.DataFrame'>\n",
      "RangeIndex: 11681 entries, 0 to 11680\n",
      "Data columns (total 3 columns):\n",
      " #   Column   Non-Null Count  Dtype \n",
      "---  ------   --------------  ----- \n",
      " 0   id       11681 non-null  int64 \n",
      " 1   version  11681 non-null  int64 \n",
      " 2   set_num  11681 non-null  object\n",
      "dtypes: int64(2), object(1)\n",
      "memory usage: 273.9+ KB\n",
      "None\n",
      "\n",
      "NUMBER OF NON-NULL VALUES IN EACH COLUMN\n",
      "id         11681\n",
      "version    11681\n",
      "set_num    11681\n",
      "dtype: int64\n"
     ]
    }
   ],
   "source": [
    "investigate(inventories)"
   ]
  },
  {
   "cell_type": "markdown",
   "metadata": {},
   "source": [
    "#### Very few sets had more than one version released"
   ]
  },
  {
   "cell_type": "code",
   "execution_count": 32,
   "metadata": {},
   "outputs": [
    {
     "name": "stdout",
     "output_type": "stream",
     "text": [
      "COUNT OF DIFFERENT VERSIONS\n"
     ]
    },
    {
     "data": {
      "text/plain": [
       "version\n",
       "1    11669\n",
       "2        9\n",
       "3        1\n",
       "4        1\n",
       "5        1\n",
       "Name: count, dtype: int64"
      ]
     },
     "execution_count": 32,
     "metadata": {},
     "output_type": "execute_result"
    }
   ],
   "source": [
    "print(\"COUNT OF DIFFERENT VERSIONS\")\n",
    "inventories['version'].value_counts()"
   ]
  },
  {
   "cell_type": "markdown",
   "metadata": {},
   "source": [
    "## themes dataset"
   ]
  },
  {
   "cell_type": "code",
   "execution_count": 33,
   "metadata": {},
   "outputs": [
    {
     "name": "stdout",
     "output_type": "stream",
     "text": [
      "Exploring the data in the dataframe\n",
      "RangeIndex(start=0, stop=614, step=1)\n",
      "\n",
      "COLUMN NAMES\n",
      "Index(['id', 'name', 'parent_id'], dtype='object')\n",
      "\n",
      "There are 614 rows and 3 columns\n",
      "\n",
      "DATA TYPES\n",
      "id             int64\n",
      "name          object\n",
      "parent_id    float64\n",
      "dtype: object\n",
      "\n",
      "NUMBER OF UNIQUE VALUES IN EACH COLUMN\n",
      "id           614\n",
      "name           1\n",
      "parent_id     78\n",
      "dtype: int64\n",
      "\n",
      "PREVIEWING THE DATASET\n",
      "   id name  parent_id\n",
      "0   1    d        NaN\n",
      "1   2    d        1.0\n",
      "2   3    d        1.0\n",
      "3   4    d        1.0\n",
      "4   5    d        1.0\n",
      "\n",
      "<class 'pandas.core.frame.DataFrame'>\n",
      "RangeIndex: 614 entries, 0 to 613\n",
      "Data columns (total 3 columns):\n",
      " #   Column     Non-Null Count  Dtype  \n",
      "---  ------     --------------  -----  \n",
      " 0   id         614 non-null    int64  \n",
      " 1   name       614 non-null    object \n",
      " 2   parent_id  503 non-null    float64\n",
      "dtypes: float64(1), int64(1), object(1)\n",
      "memory usage: 14.5+ KB\n",
      "None\n",
      "\n",
      "NUMBER OF NON-NULL VALUES IN EACH COLUMN\n",
      "id           614\n",
      "name         614\n",
      "parent_id    503\n",
      "dtype: int64\n"
     ]
    }
   ],
   "source": [
    "investigate(themes)"
   ]
  },
  {
   "cell_type": "markdown",
   "metadata": {},
   "source": [
    "### 78 total themes"
   ]
  },
  {
   "cell_type": "code",
   "execution_count": 34,
   "metadata": {},
   "outputs": [
    {
     "name": "stdout",
     "output_type": "stream",
     "text": [
      "There are 78 total themes.\n"
     ]
    }
   ],
   "source": [
    "nthemegroups = themes.parent_id.nunique()\n",
    "print(f\"There are {nthemegroups} total themes.\")"
   ]
  },
  {
   "cell_type": "markdown",
   "metadata": {},
   "source": [
    "## sets dataset"
   ]
  },
  {
   "cell_type": "code",
   "execution_count": 35,
   "metadata": {},
   "outputs": [
    {
     "name": "stdout",
     "output_type": "stream",
     "text": [
      "Exploring the data in the dataframe\n",
      "RangeIndex(start=0, stop=11673, step=1)\n",
      "\n",
      "COLUMN NAMES\n",
      "Index(['set_num', 'name', 'year', 'theme_id', 'num_parts'], dtype='object')\n",
      "\n",
      "There are 11673 rows and 5 columns\n",
      "\n",
      "DATA TYPES\n",
      "set_num      object\n",
      "name         object\n",
      "year          int64\n",
      "theme_id      int64\n",
      "num_parts     int64\n",
      "dtype: object\n",
      "\n",
      "NUMBER OF UNIQUE VALUES IN EACH COLUMN\n",
      "set_num      11673\n",
      "name             1\n",
      "year            66\n",
      "theme_id       575\n",
      "num_parts     1092\n",
      "dtype: int64\n",
      "\n",
      "PREVIEWING THE DATASET\n",
      "  set_num name  year  theme_id  num_parts\n",
      "0    00-1    d  1970       414        471\n",
      "1  0011-2    d  1978        84         12\n",
      "2  0011-3    d  1987       199          2\n",
      "3  0012-1    d  1979       143         12\n",
      "4  0013-1    d  1979       143         12\n",
      "\n",
      "<class 'pandas.core.frame.DataFrame'>\n",
      "RangeIndex: 11673 entries, 0 to 11672\n",
      "Data columns (total 5 columns):\n",
      " #   Column     Non-Null Count  Dtype \n",
      "---  ------     --------------  ----- \n",
      " 0   set_num    11673 non-null  object\n",
      " 1   name       11673 non-null  object\n",
      " 2   year       11673 non-null  int64 \n",
      " 3   theme_id   11673 non-null  int64 \n",
      " 4   num_parts  11673 non-null  int64 \n",
      "dtypes: int64(3), object(2)\n",
      "memory usage: 456.1+ KB\n",
      "None\n",
      "\n",
      "NUMBER OF NON-NULL VALUES IN EACH COLUMN\n",
      "set_num      11673\n",
      "name         11673\n",
      "year         11673\n",
      "theme_id     11673\n",
      "num_parts    11673\n",
      "dtype: int64\n"
     ]
    }
   ],
   "source": [
    "investigate(sets)"
   ]
  },
  {
   "cell_type": "code",
   "execution_count": 36,
   "metadata": {},
   "outputs": [
    {
     "data": {
      "text/plain": [
       "<bound method IndexOpsMixin.value_counts of 0          7922-1\n",
       "1          3931-1\n",
       "2          6942-1\n",
       "3          5158-1\n",
       "4           903-1\n",
       "           ...   \n",
       "11676     31066-1\n",
       "11677     71018-7\n",
       "11678    71018-17\n",
       "11679     60159-1\n",
       "11680     75090-2\n",
       "Name: set_num, Length: 11681, dtype: object>"
      ]
     },
     "execution_count": 36,
     "metadata": {},
     "output_type": "execute_result"
    }
   ],
   "source": [
    "inventories.set_num.value_counts"
   ]
  },
  {
   "cell_type": "markdown",
   "metadata": {},
   "source": [
    "## sets part_categories"
   ]
  },
  {
   "cell_type": "code",
   "execution_count": 38,
   "metadata": {},
   "outputs": [
    {
     "name": "stdout",
     "output_type": "stream",
     "text": [
      "Exploring the data in the dataframe\n",
      "RangeIndex(start=0, stop=57, step=1)\n",
      "\n",
      "COLUMN NAMES\n",
      "Index(['id', 'name'], dtype='object')\n",
      "\n",
      "There are 57 rows and 2 columns\n",
      "\n",
      "DATA TYPES\n",
      "id       int64\n",
      "name    object\n",
      "dtype: object\n",
      "\n",
      "NUMBER OF UNIQUE VALUES IN EACH COLUMN\n",
      "id      57\n",
      "name     1\n",
      "dtype: int64\n",
      "\n",
      "PREVIEWING THE DATASET\n",
      "   id name\n",
      "0   1    d\n",
      "1   2    d\n",
      "2   3    d\n",
      "3   4    d\n",
      "4   5    d\n",
      "\n",
      "<class 'pandas.core.frame.DataFrame'>\n",
      "RangeIndex: 57 entries, 0 to 56\n",
      "Data columns (total 2 columns):\n",
      " #   Column  Non-Null Count  Dtype \n",
      "---  ------  --------------  ----- \n",
      " 0   id      57 non-null     int64 \n",
      " 1   name    57 non-null     object\n",
      "dtypes: int64(1), object(1)\n",
      "memory usage: 1.0+ KB\n",
      "None\n",
      "\n",
      "NUMBER OF NON-NULL VALUES IN EACH COLUMN\n",
      "id      57\n",
      "name    57\n",
      "dtype: int64\n"
     ]
    }
   ],
   "source": [
    "investigate(part_categories)"
   ]
  }
 ],
 "metadata": {
  "kernelspec": {
   "display_name": "tryenvir",
   "language": "python",
   "name": "python3"
  },
  "language_info": {
   "codemirror_mode": {
    "name": "ipython",
    "version": 3
   },
   "file_extension": ".py",
   "mimetype": "text/x-python",
   "name": "python",
   "nbconvert_exporter": "python",
   "pygments_lexer": "ipython3",
   "version": "3.8.20"
  }
 },
 "nbformat": 4,
 "nbformat_minor": 2
}
