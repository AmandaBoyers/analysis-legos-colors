{
 "cells": [
  {
   "cell_type": "code",
   "execution_count": 3,
   "metadata": {},
   "outputs": [],
   "source": [
    "from mpl_toolkits.mplot3d import Axes3D\n",
    "from sklearn.preprocessing import StandardScaler\n",
    "import matplotlib.pyplot as plt # plotting\n",
    "import numpy as np # linear algebra\n",
    "import os # accessing directory structure\n",
    "import pandas as pd # data processing, CSV file I/O (e.g. pd.read_csv)"
   ]
  },
  {
   "cell_type": "code",
   "execution_count": 4,
   "metadata": {},
   "outputs": [
    {
     "name": "stdout",
     "output_type": "stream",
     "text": [
      "['.conda', '.git', '.gitattributes', '.gitignore', 'colors.csv', 'demo.py', 'downloads_schema.png', 'inventories.csv', 'inventory_parts.csv', 'inventory_sets.csv', 'LEGO_Datasets.ipynb', 'LICENSE', 'LICENSE.txt', 'main.py', 'markdown-diff', 'Miniconda3-latest-Linux-x86_64.sh', 'morelearning.ipynb', 'parts.csv', 'part_categories.csv', 'README.md', 'sets.csv', 'themes.csv', 'try.py']\n"
     ]
    }
   ],
   "source": [
    "print(os.listdir())"
   ]
  },
  {
   "cell_type": "markdown",
   "metadata": {},
   "source": [
    "## Creating the Panda dataframes"
   ]
  },
  {
   "cell_type": "code",
   "execution_count": null,
   "metadata": {},
   "outputs": [],
   "source": [
    "print(\"Hello, WSL!\")"
   ]
  },
  {
   "cell_type": "code",
   "execution_count": null,
   "metadata": {},
   "outputs": [],
   "source": [
    "colors = pd.read_csv(\"colors.csv\")\n",
    "inventories = pd.read_csv(\"inventories.csv\")\n",
    "inventory_parts = pd.read_csv(\"inventory_parts.csv\")\n",
    "inventory_sets = pd.read_csv(\"inventory_sets.csv\")\n",
    "part_categories = pd.read_csv(\"part_categories.csv\")\n",
    "parts = pd.read_csv(\"parts.csv\")\n",
    "sets = pd.read_csv(\"sets.csv\")\n",
    "themes = pd.read_csv(\"themes.csv\")"
   ]
  },
  {
   "cell_type": "markdown",
   "metadata": {},
   "source": [
    "## Creating the investigate function"
   ]
  },
  {
   "cell_type": "code",
   "execution_count": null,
   "metadata": {},
   "outputs": [],
   "source": [
    "def investigate(db):\n",
    "    \"\"\"explores the data\"\"\"\n",
    "\n",
    "    db.name = \"d\"\n",
    "    print(f\"Exploring the data in the dataframe\")\n",
    "    print(db.index)\n",
    "    print(\"\")\n",
    "    print(\"COLUMN NAMES\")\n",
    "    print(db.columns)\n",
    "    print()\n",
    "    nRow, nCol = db.shape\n",
    "    print(f'There are {nRow} rows and {nCol} columns')\n",
    "    print()\n",
    "    print(\"DATA TYPES\")\n",
    "    print(db.dtypes)\n",
    "    print()\n",
    "    print(\"NUMBER OF UNIQUE VALUES IN EACH COLUMN\")\n",
    "    print(db.nunique())\n",
    "    print()\n",
    "    print(\"PREVIEWING THE DATASET\")\n",
    "    print(db.head())\n",
    "    print()\n",
    "    print(db.info())\n",
    "    print()\n",
    "    print(\"NUMBER OF NON-NULL VALUES IN EACH COLUMN\")\n",
    "    print(db.count())\n"
   ]
  },
  {
   "cell_type": "markdown",
   "metadata": {},
   "source": [
    "## How the data is organized\n",
    "\n",
    "The dataset inventory_sets has 3 columns: inventory_id, set_num and quantity.  The inventory_id is the piece/part, the quantity is the number of a specfic piece (inventory_id) included.  The majority of sets have a single piece- it is rare to have multple of the same piece in a set.  A set_num has multiple pieces (inventory_id).  A piece (inventory_id in inventory_sets = id in inventories) in some cases has had different versions (the versions of a piece are in the inventories dataset)\n",
    "\n",
    "The color is available for each inventory_id, and each inventory_id is categorized (windows, doors, bricks).\n",
    "\n",
    "Tracking how number of parts have changed = num_parts in sets- relatively simple.  Investiating how those parts have changed- changes in inventory_id colors, categories- more complicated. Changes in theme or parent_theme would be a simpler investigation given you do not have to drill down as much."
   ]
  },
  {
   "cell_type": "markdown",
   "metadata": {},
   "source": [
    "# Ideas for this data set\n",
    "* Group colors into 10 groups (124 colors out of 135 is too many)\n",
    "* Track popular themes and colors by year\n",
    "    ** datasets= colors, sets, themes\n",
    "* Only 12 pieces had more than version 1 released.  Where those the popular colors and themes?\n",
    "    ** dataset = inventories\n",
    "* How has the size of sets changed over time?\n",
    "* What colors are associated with which themes? \n",
    "* Could you predict which theme a set is from just by the bricks it contains?\n",
    "* What sets have the most-used pieces in them? What sets have the rarest pieces in them?\n",
    "* Have the colors of LEGOs included in sets changed over time?\n",
    "\n"
   ]
  },
  {
   "cell_type": "markdown",
   "metadata": {},
   "source": [
    "# Exploring each dataset"
   ]
  },
  {
   "cell_type": "markdown",
   "metadata": {},
   "source": [
    "## colors dataset"
   ]
  },
  {
   "cell_type": "code",
   "execution_count": null,
   "metadata": {},
   "outputs": [],
   "source": [
    "investigate(colors)"
   ]
  },
  {
   "cell_type": "markdown",
   "metadata": {},
   "source": [
    "### What's with the color names?"
   ]
  },
  {
   "cell_type": "code",
   "execution_count": null,
   "metadata": {},
   "outputs": [],
   "source": [
    "colors['name'].unique()"
   ]
  },
  {
   "cell_type": "markdown",
   "metadata": {},
   "source": [
    "### rgb values"
   ]
  },
  {
   "cell_type": "code",
   "execution_count": null,
   "metadata": {},
   "outputs": [],
   "source": [
    "uniquecolors = colors['rgb'].nunique()\n",
    "nRow, nCol = colors.shape\n",
    "\n",
    "print(f\"There are {uniquecolors} unique colors in the dataframe colors out of {nRow} total colors\")\n",
    "print()\n",
    "print(\"COUNT OF ALL UNIQUE COLORS\")\n",
    "colors['rgb'].value_counts()\n"
   ]
  },
  {
   "cell_type": "markdown",
   "metadata": {},
   "source": [
    "## inventory_sets dataset"
   ]
  },
  {
   "cell_type": "markdown",
   "metadata": {},
   "source": [
    "The dataset inventory_sets has 3 columns: inventory_id, set_num and quauntity.  The inventory_id is the piece/part, the quantity is the number of a specfic piece (inventory_id) included.  A set_num has multiple pieces (inventory_id).  A piece (inventory_id in inventory_sets = id in inventories) in some cases has had different versions (the versions of a piece are in the inventories dataset)\n",
    "\n",
    "The color is available for each inventory_id, and each inventory_id is categorized (windows, doors, bricks)."
   ]
  },
  {
   "cell_type": "code",
   "execution_count": null,
   "metadata": {},
   "outputs": [],
   "source": [
    "investigate(inventory_sets)"
   ]
  },
  {
   "cell_type": "markdown",
   "metadata": {},
   "source": [
    "#### Most sets have only 1 of any kind of piece in the set.  There are 2,846 total peices (count of inventory_id).  2,793 pieces only occur once in a set (see below).\n",
    "\n",
    "To do: filter using Python to find what iventory_ids have quantities over 1.  What set_nums are they part of, what themes are they part of?"
   ]
  },
  {
   "cell_type": "code",
   "execution_count": null,
   "metadata": {},
   "outputs": [],
   "source": [
    "print(\"COUNT OF quantities...quantity and the number with that quantity\")\n",
    "inventory_sets['quantity'].value_counts()"
   ]
  },
  {
   "cell_type": "markdown",
   "metadata": {},
   "source": [
    "quantity= the number of that iventory_id were included.  Each set_num has meany inventory_ids.\n",
    "\n",
    "\n",
    "What does it mean that quantity was \"1\" for most sets?  What does it mean if there was more than 1 of a set? the set \"Basic Building Set\" with set_num = 044-1 had what quantity?  This can't be the number sold, because the highest number is 60.\n",
    "\n",
    "044-1,Basic Building Set,1968,366,225\n",
    "\n",
    "set_num 4520-1 had quantity = 2\n",
    "name = Curved Rails\n",
    "year = 1991\n",
    "theme_id =244\n",
    "num_parts = 8\n",
    "\n",
    "14 sets had theme 244\n",
    "\n",
    "set_num = 4520-1, Curved Rails, 1991, theme = 244, 8 parts\n",
    "set_num = 4531-1, Manual Points, 1991, theme= 244, 6 parts\n",
    "\n",
    "set num 4530-1 had quantity 2 of iventory_id 50, quantity 5 of inventory_id 309, quantity 1 of inventory 6050, etc.\n"
   ]
  },
  {
   "cell_type": "markdown",
   "metadata": {},
   "source": [
    "## inventories dataset"
   ]
  },
  {
   "cell_type": "code",
   "execution_count": null,
   "metadata": {},
   "outputs": [],
   "source": [
    "investigate(inventories)"
   ]
  },
  {
   "cell_type": "markdown",
   "metadata": {},
   "source": [
    "#### Very few sets had more than one version released"
   ]
  },
  {
   "cell_type": "code",
   "execution_count": null,
   "metadata": {},
   "outputs": [],
   "source": [
    "print(\"COUNT OF DIFFERENT VERSIONS\")\n",
    "inventories['version'].value_counts()"
   ]
  },
  {
   "cell_type": "markdown",
   "metadata": {},
   "source": [
    "## themes dataset"
   ]
  },
  {
   "cell_type": "code",
   "execution_count": null,
   "metadata": {},
   "outputs": [],
   "source": [
    "investigate(themes)"
   ]
  },
  {
   "cell_type": "markdown",
   "metadata": {},
   "source": [
    "### 78 total themes"
   ]
  },
  {
   "cell_type": "code",
   "execution_count": null,
   "metadata": {},
   "outputs": [],
   "source": [
    "nthemegroups = themes.parent_id.nunique()\n",
    "print(f\"There are {nthemegroups} total themes.\")"
   ]
  },
  {
   "cell_type": "markdown",
   "metadata": {},
   "source": [
    "## sets dataset"
   ]
  },
  {
   "cell_type": "code",
   "execution_count": null,
   "metadata": {},
   "outputs": [],
   "source": [
    "investigate(sets)"
   ]
  },
  {
   "cell_type": "code",
   "execution_count": null,
   "metadata": {},
   "outputs": [],
   "source": [
    "inventories.set_num.value_counts"
   ]
  },
  {
   "cell_type": "markdown",
   "metadata": {},
   "source": [
    "## sets part_categories"
   ]
  },
  {
   "cell_type": "code",
   "execution_count": null,
   "metadata": {},
   "outputs": [],
   "source": [
    "investigate(part_categories)"
   ]
  }
 ],
 "metadata": {
  "kernelspec": {
   "display_name": "tryenvir",
   "language": "python",
   "name": "python3"
  },
  "language_info": {
   "codemirror_mode": {
    "name": "ipython",
    "version": 3
   },
   "file_extension": ".py",
   "mimetype": "text/x-python",
   "name": "python",
   "nbconvert_exporter": "python",
   "pygments_lexer": "ipython3",
   "version": "3.8.20"
  }
 },
 "nbformat": 4,
 "nbformat_minor": 2
}
